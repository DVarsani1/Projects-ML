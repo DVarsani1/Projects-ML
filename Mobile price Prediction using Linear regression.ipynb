{
 "cells": [
  {
   "cell_type": "markdown",
   "id": "f34c9a1d",
   "metadata": {},
   "source": [
    "# Objective\n",
    "  * Identify the Which Variable have more impact on Price of Mobile\n",
    "  * To build the Model which will help to Predict the Price of model \n",
    "  "
   ]
  },
  {
   "cell_type": "code",
   "execution_count": 1,
   "id": "278a157b",
   "metadata": {},
   "outputs": [],
   "source": [
    "import pandas as pd\n",
    "import numpy as np\n",
    "import re\n",
    "import warnings\n",
    "warnings.filterwarnings(\"ignore\")"
   ]
  },
  {
   "cell_type": "code",
   "execution_count": 2,
   "id": "afc8339e",
   "metadata": {},
   "outputs": [
    {
     "name": "stdout",
     "output_type": "stream",
     "text": [
      "<class 'pandas.core.frame.DataFrame'>\n",
      "RangeIndex: 1836 entries, 0 to 1835\n",
      "Data columns (total 11 columns):\n",
      " #   Column             Non-Null Count  Dtype  \n",
      "---  ------             --------------  -----  \n",
      " 0   Phone Name         1836 non-null   object \n",
      " 1   Rating ?/5         1836 non-null   float64\n",
      " 2   Number of Ratings  1836 non-null   object \n",
      " 3   RAM                1836 non-null   object \n",
      " 4   ROM/Storage        1662 non-null   object \n",
      " 5   Back/Rare Camera   1827 non-null   object \n",
      " 6   Front Camera       1435 non-null   object \n",
      " 7   Battery            1826 non-null   object \n",
      " 8   Processor          1781 non-null   object \n",
      " 9   Price in INR       1836 non-null   object \n",
      " 10  Date of Scraping   1836 non-null   object \n",
      "dtypes: float64(1), object(10)\n",
      "memory usage: 157.9+ KB\n"
     ]
    }
   ],
   "source": [
    "df = pd.read_csv(r\"mobile_prices_2023.csv\")\n",
    "df.info()"
   ]
  },
  {
   "cell_type": "code",
   "execution_count": 3,
   "id": "af4a4d06",
   "metadata": {},
   "outputs": [
    {
     "data": {
      "text/html": [
       "<div>\n",
       "<style scoped>\n",
       "    .dataframe tbody tr th:only-of-type {\n",
       "        vertical-align: middle;\n",
       "    }\n",
       "\n",
       "    .dataframe tbody tr th {\n",
       "        vertical-align: top;\n",
       "    }\n",
       "\n",
       "    .dataframe thead th {\n",
       "        text-align: right;\n",
       "    }\n",
       "</style>\n",
       "<table border=\"1\" class=\"dataframe\">\n",
       "  <thead>\n",
       "    <tr style=\"text-align: right;\">\n",
       "      <th></th>\n",
       "      <th>Phone Name</th>\n",
       "      <th>Rating ?/5</th>\n",
       "      <th>Number of Ratings</th>\n",
       "      <th>RAM</th>\n",
       "      <th>ROM/Storage</th>\n",
       "      <th>Back/Rare Camera</th>\n",
       "      <th>Front Camera</th>\n",
       "      <th>Battery</th>\n",
       "      <th>Processor</th>\n",
       "      <th>Price in INR</th>\n",
       "      <th>Date of Scraping</th>\n",
       "    </tr>\n",
       "  </thead>\n",
       "  <tbody>\n",
       "    <tr>\n",
       "      <th>0</th>\n",
       "      <td>POCO C50 (Royal Blue, 32 GB)</td>\n",
       "      <td>4.2</td>\n",
       "      <td>33,561</td>\n",
       "      <td>2 GB RAM</td>\n",
       "      <td>32 GB ROM</td>\n",
       "      <td>8MP Dual Camera</td>\n",
       "      <td>5MP Front Camera</td>\n",
       "      <td>5000 mAh</td>\n",
       "      <td>Mediatek Helio A22 Processor, Upto 2.0 GHz Pro...</td>\n",
       "      <td>₹5,649</td>\n",
       "      <td>2023-06-17</td>\n",
       "    </tr>\n",
       "    <tr>\n",
       "      <th>1</th>\n",
       "      <td>POCO M4 5G (Cool Blue, 64 GB)</td>\n",
       "      <td>4.2</td>\n",
       "      <td>77,128</td>\n",
       "      <td>4 GB RAM</td>\n",
       "      <td>64 GB ROM</td>\n",
       "      <td>50MP + 2MP</td>\n",
       "      <td>8MP Front Camera</td>\n",
       "      <td>5000 mAh</td>\n",
       "      <td>Mediatek Dimensity 700 Processor</td>\n",
       "      <td>₹11,999</td>\n",
       "      <td>2023-06-17</td>\n",
       "    </tr>\n",
       "    <tr>\n",
       "      <th>2</th>\n",
       "      <td>POCO C51 (Royal Blue, 64 GB)</td>\n",
       "      <td>4.3</td>\n",
       "      <td>15,175</td>\n",
       "      <td>4 GB RAM</td>\n",
       "      <td>64 GB ROM</td>\n",
       "      <td>8MP Dual Rear Camera</td>\n",
       "      <td>5MP Front Camera</td>\n",
       "      <td>5000 mAh</td>\n",
       "      <td>Helio G36 Processor</td>\n",
       "      <td>₹6,999</td>\n",
       "      <td>2023-06-17</td>\n",
       "    </tr>\n",
       "    <tr>\n",
       "      <th>3</th>\n",
       "      <td>POCO C55 (Cool Blue, 64 GB)</td>\n",
       "      <td>4.2</td>\n",
       "      <td>22,621</td>\n",
       "      <td>4 GB RAM</td>\n",
       "      <td>64 GB ROM</td>\n",
       "      <td>50MP Dual Rear Camera</td>\n",
       "      <td>5MP Front Camera</td>\n",
       "      <td>5000 mAh</td>\n",
       "      <td>Mediatek Helio G85 Processor</td>\n",
       "      <td>₹7,749</td>\n",
       "      <td>2023-06-17</td>\n",
       "    </tr>\n",
       "    <tr>\n",
       "      <th>4</th>\n",
       "      <td>POCO C51 (Power Black, 64 GB)</td>\n",
       "      <td>4.3</td>\n",
       "      <td>15,175</td>\n",
       "      <td>4 GB RAM</td>\n",
       "      <td>64 GB ROM</td>\n",
       "      <td>8MP Dual Rear Camera</td>\n",
       "      <td>5MP Front Camera</td>\n",
       "      <td>5000 mAh</td>\n",
       "      <td>Helio G36 Processor</td>\n",
       "      <td>₹6,999</td>\n",
       "      <td>2023-06-17</td>\n",
       "    </tr>\n",
       "  </tbody>\n",
       "</table>\n",
       "</div>"
      ],
      "text/plain": [
       "                      Phone Name  Rating ?/5 Number of Ratings       RAM  \\\n",
       "0   POCO C50 (Royal Blue, 32 GB)         4.2            33,561  2 GB RAM   \n",
       "1  POCO M4 5G (Cool Blue, 64 GB)         4.2            77,128  4 GB RAM   \n",
       "2   POCO C51 (Royal Blue, 64 GB)         4.3            15,175  4 GB RAM   \n",
       "3    POCO C55 (Cool Blue, 64 GB)         4.2            22,621  4 GB RAM   \n",
       "4  POCO C51 (Power Black, 64 GB)         4.3            15,175  4 GB RAM   \n",
       "\n",
       "  ROM/Storage       Back/Rare Camera      Front Camera   Battery  \\\n",
       "0   32 GB ROM        8MP Dual Camera  5MP Front Camera  5000 mAh   \n",
       "1   64 GB ROM             50MP + 2MP  8MP Front Camera  5000 mAh   \n",
       "2   64 GB ROM   8MP Dual Rear Camera  5MP Front Camera  5000 mAh   \n",
       "3   64 GB ROM  50MP Dual Rear Camera  5MP Front Camera  5000 mAh   \n",
       "4   64 GB ROM   8MP Dual Rear Camera  5MP Front Camera  5000 mAh   \n",
       "\n",
       "                                           Processor Price in INR  \\\n",
       "0  Mediatek Helio A22 Processor, Upto 2.0 GHz Pro...       ₹5,649   \n",
       "1                   Mediatek Dimensity 700 Processor      ₹11,999   \n",
       "2                                Helio G36 Processor       ₹6,999   \n",
       "3                       Mediatek Helio G85 Processor       ₹7,749   \n",
       "4                                Helio G36 Processor       ₹6,999   \n",
       "\n",
       "  Date of Scraping  \n",
       "0       2023-06-17  \n",
       "1       2023-06-17  \n",
       "2       2023-06-17  \n",
       "3       2023-06-17  \n",
       "4       2023-06-17  "
      ]
     },
     "execution_count": 3,
     "metadata": {},
     "output_type": "execute_result"
    }
   ],
   "source": [
    "df.head()"
   ]
  },
  {
   "cell_type": "markdown",
   "id": "dbd274b2",
   "metadata": {},
   "source": [
    "# EDA"
   ]
  },
  {
   "cell_type": "markdown",
   "id": "aa25199d",
   "metadata": {},
   "source": [
    "#### missing value"
   ]
  },
  {
   "cell_type": "code",
   "execution_count": 4,
   "id": "acf3eac0",
   "metadata": {
    "scrolled": true
   },
   "outputs": [
    {
     "data": {
      "text/plain": [
       "Phone Name             0\n",
       "Rating ?/5             0\n",
       "Number of Ratings      0\n",
       "RAM                    0\n",
       "ROM/Storage          174\n",
       "Back/Rare Camera       9\n",
       "Front Camera         401\n",
       "Battery               10\n",
       "Processor             55\n",
       "Price in INR           0\n",
       "Date of Scraping       0\n",
       "dtype: int64"
      ]
     },
     "execution_count": 4,
     "metadata": {},
     "output_type": "execute_result"
    }
   ],
   "source": [
    "df.isna().sum()"
   ]
  },
  {
   "cell_type": "code",
   "execution_count": 5,
   "id": "ba05d801",
   "metadata": {
    "scrolled": true
   },
   "outputs": [],
   "source": [
    "df = df.dropna()"
   ]
  },
  {
   "cell_type": "code",
   "execution_count": 6,
   "id": "6188e9fd",
   "metadata": {
    "scrolled": true
   },
   "outputs": [
    {
     "data": {
      "text/plain": [
       "Phone Name           0\n",
       "Rating ?/5           0\n",
       "Number of Ratings    0\n",
       "RAM                  0\n",
       "ROM/Storage          0\n",
       "Back/Rare Camera     0\n",
       "Front Camera         0\n",
       "Battery              0\n",
       "Processor            0\n",
       "Price in INR         0\n",
       "Date of Scraping     0\n",
       "dtype: int64"
      ]
     },
     "execution_count": 6,
     "metadata": {},
     "output_type": "execute_result"
    }
   ],
   "source": [
    "df.isna().sum() \n"
   ]
  },
  {
   "cell_type": "code",
   "execution_count": 7,
   "id": "86547d46",
   "metadata": {
    "scrolled": true
   },
   "outputs": [
    {
     "name": "stdout",
     "output_type": "stream",
     "text": [
      "<class 'pandas.core.frame.DataFrame'>\n",
      "Int64Index: 1291 entries, 0 to 1835\n",
      "Data columns (total 11 columns):\n",
      " #   Column             Non-Null Count  Dtype  \n",
      "---  ------             --------------  -----  \n",
      " 0   Phone Name         1291 non-null   object \n",
      " 1   Rating ?/5         1291 non-null   float64\n",
      " 2   Number of Ratings  1291 non-null   object \n",
      " 3   RAM                1291 non-null   object \n",
      " 4   ROM/Storage        1291 non-null   object \n",
      " 5   Back/Rare Camera   1291 non-null   object \n",
      " 6   Front Camera       1291 non-null   object \n",
      " 7   Battery            1291 non-null   object \n",
      " 8   Processor          1291 non-null   object \n",
      " 9   Price in INR       1291 non-null   object \n",
      " 10  Date of Scraping   1291 non-null   object \n",
      "dtypes: float64(1), object(10)\n",
      "memory usage: 121.0+ KB\n"
     ]
    }
   ],
   "source": [
    "df.info()"
   ]
  },
  {
   "cell_type": "markdown",
   "id": "06d60e0c",
   "metadata": {},
   "source": [
    "#### remove unwanted string"
   ]
  },
  {
   "cell_type": "code",
   "execution_count": 8,
   "id": "48bc830f",
   "metadata": {},
   "outputs": [],
   "source": [
    "def extract_first_number(text):\n",
    "    if isinstance(text, str):  \n",
    "        match = re.search(r'\\d+', text)  \n",
    "        return match.group(0) if match else None  \n",
    "    return None  \n",
    "\n",
    "\n",
    "df['Back/Rare Camera'] = df['Back/Rare Camera'].apply(extract_first_number)\n",
    "\n",
    "columns_to_clean = ['RAM', 'ROM/Storage', 'Front Camera','Battery']  \n",
    "\n",
    "for column in columns_to_clean:\n",
    "    df[column] = df[column].apply(extract_first_number)\n",
    "\n"
   ]
  },
  {
   "cell_type": "code",
   "execution_count": 9,
   "id": "d6ca6cfd",
   "metadata": {
    "scrolled": true
   },
   "outputs": [
    {
     "data": {
      "text/html": [
       "<div>\n",
       "<style scoped>\n",
       "    .dataframe tbody tr th:only-of-type {\n",
       "        vertical-align: middle;\n",
       "    }\n",
       "\n",
       "    .dataframe tbody tr th {\n",
       "        vertical-align: top;\n",
       "    }\n",
       "\n",
       "    .dataframe thead th {\n",
       "        text-align: right;\n",
       "    }\n",
       "</style>\n",
       "<table border=\"1\" class=\"dataframe\">\n",
       "  <thead>\n",
       "    <tr style=\"text-align: right;\">\n",
       "      <th></th>\n",
       "      <th>Phone Name</th>\n",
       "      <th>Rating ?/5</th>\n",
       "      <th>Number of Ratings</th>\n",
       "      <th>RAM</th>\n",
       "      <th>ROM/Storage</th>\n",
       "      <th>Back/Rare Camera</th>\n",
       "      <th>Front Camera</th>\n",
       "      <th>Battery</th>\n",
       "      <th>Processor</th>\n",
       "      <th>Price in INR</th>\n",
       "      <th>Date of Scraping</th>\n",
       "    </tr>\n",
       "  </thead>\n",
       "  <tbody>\n",
       "    <tr>\n",
       "      <th>0</th>\n",
       "      <td>POCO C50 (Royal Blue, 32 GB)</td>\n",
       "      <td>4.2</td>\n",
       "      <td>33,561</td>\n",
       "      <td>2</td>\n",
       "      <td>32</td>\n",
       "      <td>8</td>\n",
       "      <td>5</td>\n",
       "      <td>5000</td>\n",
       "      <td>Mediatek Helio A22 Processor, Upto 2.0 GHz Pro...</td>\n",
       "      <td>₹5,649</td>\n",
       "      <td>2023-06-17</td>\n",
       "    </tr>\n",
       "    <tr>\n",
       "      <th>1</th>\n",
       "      <td>POCO M4 5G (Cool Blue, 64 GB)</td>\n",
       "      <td>4.2</td>\n",
       "      <td>77,128</td>\n",
       "      <td>4</td>\n",
       "      <td>64</td>\n",
       "      <td>50</td>\n",
       "      <td>8</td>\n",
       "      <td>5000</td>\n",
       "      <td>Mediatek Dimensity 700 Processor</td>\n",
       "      <td>₹11,999</td>\n",
       "      <td>2023-06-17</td>\n",
       "    </tr>\n",
       "    <tr>\n",
       "      <th>2</th>\n",
       "      <td>POCO C51 (Royal Blue, 64 GB)</td>\n",
       "      <td>4.3</td>\n",
       "      <td>15,175</td>\n",
       "      <td>4</td>\n",
       "      <td>64</td>\n",
       "      <td>8</td>\n",
       "      <td>5</td>\n",
       "      <td>5000</td>\n",
       "      <td>Helio G36 Processor</td>\n",
       "      <td>₹6,999</td>\n",
       "      <td>2023-06-17</td>\n",
       "    </tr>\n",
       "    <tr>\n",
       "      <th>3</th>\n",
       "      <td>POCO C55 (Cool Blue, 64 GB)</td>\n",
       "      <td>4.2</td>\n",
       "      <td>22,621</td>\n",
       "      <td>4</td>\n",
       "      <td>64</td>\n",
       "      <td>50</td>\n",
       "      <td>5</td>\n",
       "      <td>5000</td>\n",
       "      <td>Mediatek Helio G85 Processor</td>\n",
       "      <td>₹7,749</td>\n",
       "      <td>2023-06-17</td>\n",
       "    </tr>\n",
       "    <tr>\n",
       "      <th>4</th>\n",
       "      <td>POCO C51 (Power Black, 64 GB)</td>\n",
       "      <td>4.3</td>\n",
       "      <td>15,175</td>\n",
       "      <td>4</td>\n",
       "      <td>64</td>\n",
       "      <td>8</td>\n",
       "      <td>5</td>\n",
       "      <td>5000</td>\n",
       "      <td>Helio G36 Processor</td>\n",
       "      <td>₹6,999</td>\n",
       "      <td>2023-06-17</td>\n",
       "    </tr>\n",
       "  </tbody>\n",
       "</table>\n",
       "</div>"
      ],
      "text/plain": [
       "                      Phone Name  Rating ?/5 Number of Ratings RAM  \\\n",
       "0   POCO C50 (Royal Blue, 32 GB)         4.2            33,561   2   \n",
       "1  POCO M4 5G (Cool Blue, 64 GB)         4.2            77,128   4   \n",
       "2   POCO C51 (Royal Blue, 64 GB)         4.3            15,175   4   \n",
       "3    POCO C55 (Cool Blue, 64 GB)         4.2            22,621   4   \n",
       "4  POCO C51 (Power Black, 64 GB)         4.3            15,175   4   \n",
       "\n",
       "  ROM/Storage Back/Rare Camera Front Camera Battery  \\\n",
       "0          32                8            5    5000   \n",
       "1          64               50            8    5000   \n",
       "2          64                8            5    5000   \n",
       "3          64               50            5    5000   \n",
       "4          64                8            5    5000   \n",
       "\n",
       "                                           Processor Price in INR  \\\n",
       "0  Mediatek Helio A22 Processor, Upto 2.0 GHz Pro...       ₹5,649   \n",
       "1                   Mediatek Dimensity 700 Processor      ₹11,999   \n",
       "2                                Helio G36 Processor       ₹6,999   \n",
       "3                       Mediatek Helio G85 Processor       ₹7,749   \n",
       "4                                Helio G36 Processor       ₹6,999   \n",
       "\n",
       "  Date of Scraping  \n",
       "0       2023-06-17  \n",
       "1       2023-06-17  \n",
       "2       2023-06-17  \n",
       "3       2023-06-17  \n",
       "4       2023-06-17  "
      ]
     },
     "execution_count": 9,
     "metadata": {},
     "output_type": "execute_result"
    }
   ],
   "source": [
    "df.head()"
   ]
  },
  {
   "cell_type": "code",
   "execution_count": 10,
   "id": "3bd0c4c1",
   "metadata": {},
   "outputs": [],
   "source": [
    "df = df.drop(columns = {\"Phone Name\",\"Processor\",\"Date of Scraping\"})"
   ]
  },
  {
   "cell_type": "code",
   "execution_count": 11,
   "id": "b3ae654a",
   "metadata": {},
   "outputs": [],
   "source": [
    "new_column_names = ['Rating', 'Num_of_rating', 'RAM','ROM','BACK_camera','Front_camera','Battery','Price']\n",
    "\n",
    "df.columns = new_column_names"
   ]
  },
  {
   "cell_type": "markdown",
   "id": "f6d17e35",
   "metadata": {},
   "source": [
    "#### drop column"
   ]
  },
  {
   "cell_type": "code",
   "execution_count": 12,
   "id": "6d3022d2",
   "metadata": {
    "scrolled": false
   },
   "outputs": [],
   "source": [
    "\n",
    "df['Price'] = df['Price'].str.replace('₹', '', regex=False)"
   ]
  },
  {
   "cell_type": "code",
   "execution_count": 13,
   "id": "170b0f74",
   "metadata": {},
   "outputs": [],
   "source": [
    "df['Num_of_rating'] = df['Num_of_rating'].str.replace(',', '').astype(int)\n",
    "df['Price'] = df['Price'].str.replace(',', '').astype(int)"
   ]
  },
  {
   "cell_type": "code",
   "execution_count": 14,
   "id": "a41767d8",
   "metadata": {
    "scrolled": true
   },
   "outputs": [
    {
     "data": {
      "text/html": [
       "<div>\n",
       "<style scoped>\n",
       "    .dataframe tbody tr th:only-of-type {\n",
       "        vertical-align: middle;\n",
       "    }\n",
       "\n",
       "    .dataframe tbody tr th {\n",
       "        vertical-align: top;\n",
       "    }\n",
       "\n",
       "    .dataframe thead th {\n",
       "        text-align: right;\n",
       "    }\n",
       "</style>\n",
       "<table border=\"1\" class=\"dataframe\">\n",
       "  <thead>\n",
       "    <tr style=\"text-align: right;\">\n",
       "      <th></th>\n",
       "      <th>Rating</th>\n",
       "      <th>Num_of_rating</th>\n",
       "      <th>RAM</th>\n",
       "      <th>ROM</th>\n",
       "      <th>BACK_camera</th>\n",
       "      <th>Front_camera</th>\n",
       "      <th>Battery</th>\n",
       "      <th>Price</th>\n",
       "    </tr>\n",
       "  </thead>\n",
       "  <tbody>\n",
       "    <tr>\n",
       "      <th>0</th>\n",
       "      <td>4.2</td>\n",
       "      <td>33561</td>\n",
       "      <td>2</td>\n",
       "      <td>32</td>\n",
       "      <td>8</td>\n",
       "      <td>5</td>\n",
       "      <td>5000</td>\n",
       "      <td>5649</td>\n",
       "    </tr>\n",
       "    <tr>\n",
       "      <th>1</th>\n",
       "      <td>4.2</td>\n",
       "      <td>77128</td>\n",
       "      <td>4</td>\n",
       "      <td>64</td>\n",
       "      <td>50</td>\n",
       "      <td>8</td>\n",
       "      <td>5000</td>\n",
       "      <td>11999</td>\n",
       "    </tr>\n",
       "    <tr>\n",
       "      <th>2</th>\n",
       "      <td>4.3</td>\n",
       "      <td>15175</td>\n",
       "      <td>4</td>\n",
       "      <td>64</td>\n",
       "      <td>8</td>\n",
       "      <td>5</td>\n",
       "      <td>5000</td>\n",
       "      <td>6999</td>\n",
       "    </tr>\n",
       "    <tr>\n",
       "      <th>3</th>\n",
       "      <td>4.2</td>\n",
       "      <td>22621</td>\n",
       "      <td>4</td>\n",
       "      <td>64</td>\n",
       "      <td>50</td>\n",
       "      <td>5</td>\n",
       "      <td>5000</td>\n",
       "      <td>7749</td>\n",
       "    </tr>\n",
       "    <tr>\n",
       "      <th>4</th>\n",
       "      <td>4.3</td>\n",
       "      <td>15175</td>\n",
       "      <td>4</td>\n",
       "      <td>64</td>\n",
       "      <td>8</td>\n",
       "      <td>5</td>\n",
       "      <td>5000</td>\n",
       "      <td>6999</td>\n",
       "    </tr>\n",
       "  </tbody>\n",
       "</table>\n",
       "</div>"
      ],
      "text/plain": [
       "   Rating  Num_of_rating RAM ROM BACK_camera Front_camera Battery  Price\n",
       "0     4.2          33561   2  32           8            5    5000   5649\n",
       "1     4.2          77128   4  64          50            8    5000  11999\n",
       "2     4.3          15175   4  64           8            5    5000   6999\n",
       "3     4.2          22621   4  64          50            5    5000   7749\n",
       "4     4.3          15175   4  64           8            5    5000   6999"
      ]
     },
     "execution_count": 14,
     "metadata": {},
     "output_type": "execute_result"
    }
   ],
   "source": [
    "df.head()"
   ]
  },
  {
   "cell_type": "code",
   "execution_count": null,
   "id": "f22397e7",
   "metadata": {},
   "outputs": [],
   "source": []
  },
  {
   "cell_type": "code",
   "execution_count": 15,
   "id": "772afc97",
   "metadata": {},
   "outputs": [],
   "source": [
    "\n",
    "columns = [\"RAM\",'ROM','BACK_camera','Front_camera','Battery']\n",
    "df[columns] = df[columns].apply(pd.to_numeric, errors='coerce')\n",
    "df = df.dropna()\n"
   ]
  },
  {
   "cell_type": "markdown",
   "id": "dd1a8c63",
   "metadata": {},
   "source": [
    "# outlier"
   ]
  },
  {
   "cell_type": "code",
   "execution_count": 16,
   "id": "1c3647d9",
   "metadata": {
    "scrolled": true
   },
   "outputs": [
    {
     "data": {
      "text/plain": [
       "<AxesSubplot:>"
      ]
     },
     "execution_count": 16,
     "metadata": {},
     "output_type": "execute_result"
    },
    {
     "data": {
      "image/png": "[encoded data removed]",
      "text/plain": [
       "<Figure size 432x288 with 1 Axes>"
      ]
     },
     "metadata": {
      "needs_background": "light"
     },
     "output_type": "display_data"
    }
   ],
   "source": [
    "import seaborn as sns\n",
    "sns.boxplot(data=df)\n"
   ]
  },
  {
   "cell_type": "markdown",
   "id": "9f3d4e15",
   "metadata": {},
   "source": [
    "# Treatment of Outlier -- Winsorizing Technique"
   ]
  },
  {
   "cell_type": "code",
   "execution_count": 17,
   "id": "ed8c0af1",
   "metadata": {},
   "outputs": [],
   "source": [
    "for i in df:                  \n",
    "    if df[i].dtypes in (\"float64\",\"int64\"): \n",
    "        q1 = df[i].quantile(0.25)  \n",
    "        q3 = df[i].quantile(0.75)  \n",
    "        iqr = q3-q1  \n",
    "        ul = q3 + 1.5*iqr \n",
    "        ll = q1 - 1.5*iqr \n",
    "        df[i].clip(lower=ll,upper=ul,inplace=True)"
   ]
  },
  {
   "cell_type": "code",
   "execution_count": 18,
   "id": "48cdaa92",
   "metadata": {
    "scrolled": true
   },
   "outputs": [
    {
     "data": {
      "text/plain": [
       "<AxesSubplot:>"
      ]
     },
     "execution_count": 18,
     "metadata": {},
     "output_type": "execute_result"
    },
    {
     "data": {
      "image/png": "[encoded data removed]",
      "text/plain": [
       "<Figure size 432x288 with 1 Axes>"
      ]
     },
     "metadata": {
      "needs_background": "light"
     },
     "output_type": "display_data"
    }
   ],
   "source": [
    "import seaborn as sns\n",
    "sns.boxplot(data=df)\n"
   ]
  },
  {
   "cell_type": "markdown",
   "id": "e8a1b9e1",
   "metadata": {},
   "source": [
    "# Data Partition"
   ]
  },
  {
   "cell_type": "code",
   "execution_count": 19,
   "id": "5f54a52d",
   "metadata": {},
   "outputs": [],
   "source": [
    "X = df.drop('Price', axis= 1)\n",
    "y = df[['Price']]\n",
    "\n",
    "from sklearn.model_selection import train_test_split\n",
    "X_train, X_test, y_train, y_test = train_test_split(X, y, train_size = 0.7 ,random_state=134)"
   ]
  },
  {
   "cell_type": "code",
   "execution_count": 20,
   "id": "4dc14b79",
   "metadata": {
    "scrolled": true
   },
   "outputs": [
    {
     "data": {
      "text/html": [
       "<div>\n",
       "<style scoped>\n",
       "    .dataframe tbody tr th:only-of-type {\n",
       "        vertical-align: middle;\n",
       "    }\n",
       "\n",
       "    .dataframe tbody tr th {\n",
       "        vertical-align: top;\n",
       "    }\n",
       "\n",
       "    .dataframe thead th {\n",
       "        text-align: right;\n",
       "    }\n",
       "</style>\n",
       "<table border=\"1\" class=\"dataframe\">\n",
       "  <thead>\n",
       "    <tr style=\"text-align: right;\">\n",
       "      <th></th>\n",
       "      <th>Price</th>\n",
       "      <th>Rating</th>\n",
       "      <th>Num_of_rating</th>\n",
       "      <th>RAM</th>\n",
       "      <th>ROM</th>\n",
       "      <th>BACK_camera</th>\n",
       "      <th>Front_camera</th>\n",
       "      <th>Battery</th>\n",
       "    </tr>\n",
       "  </thead>\n",
       "  <tbody>\n",
       "    <tr>\n",
       "      <th>223</th>\n",
       "      <td>14999.0</td>\n",
       "      <td>4.3</td>\n",
       "      <td>11117.0</td>\n",
       "      <td>8.0</td>\n",
       "      <td>224.0</td>\n",
       "      <td>64.0</td>\n",
       "      <td>28.0</td>\n",
       "      <td>4200.0</td>\n",
       "    </tr>\n",
       "    <tr>\n",
       "      <th>976</th>\n",
       "      <td>14999.0</td>\n",
       "      <td>4.3</td>\n",
       "      <td>1367.0</td>\n",
       "      <td>4.0</td>\n",
       "      <td>128.0</td>\n",
       "      <td>50.0</td>\n",
       "      <td>8.0</td>\n",
       "      <td>5000.0</td>\n",
       "    </tr>\n",
       "    <tr>\n",
       "      <th>1196</th>\n",
       "      <td>14999.0</td>\n",
       "      <td>4.3</td>\n",
       "      <td>18759.0</td>\n",
       "      <td>3.0</td>\n",
       "      <td>32.0</td>\n",
       "      <td>16.0</td>\n",
       "      <td>5.0</td>\n",
       "      <td>4850.0</td>\n",
       "    </tr>\n",
       "    <tr>\n",
       "      <th>969</th>\n",
       "      <td>27990.0</td>\n",
       "      <td>4.3</td>\n",
       "      <td>17455.0</td>\n",
       "      <td>8.0</td>\n",
       "      <td>128.0</td>\n",
       "      <td>64.0</td>\n",
       "      <td>28.0</td>\n",
       "      <td>4000.0</td>\n",
       "    </tr>\n",
       "    <tr>\n",
       "      <th>253</th>\n",
       "      <td>24999.0</td>\n",
       "      <td>4.3</td>\n",
       "      <td>62922.0</td>\n",
       "      <td>8.0</td>\n",
       "      <td>224.0</td>\n",
       "      <td>64.0</td>\n",
       "      <td>28.0</td>\n",
       "      <td>4300.0</td>\n",
       "    </tr>\n",
       "  </tbody>\n",
       "</table>\n",
       "</div>"
      ],
      "text/plain": [
       "        Price  Rating  Num_of_rating  RAM    ROM  BACK_camera  Front_camera  \\\n",
       "223   14999.0     4.3        11117.0  8.0  224.0         64.0          28.0   \n",
       "976   14999.0     4.3         1367.0  4.0  128.0         50.0           8.0   \n",
       "1196  14999.0     4.3        18759.0  3.0   32.0         16.0           5.0   \n",
       "969   27990.0     4.3        17455.0  8.0  128.0         64.0          28.0   \n",
       "253   24999.0     4.3        62922.0  8.0  224.0         64.0          28.0   \n",
       "\n",
       "      Battery  \n",
       "223    4200.0  \n",
       "976    5000.0  \n",
       "1196   4850.0  \n",
       "969    4000.0  \n",
       "253    4300.0  "
      ]
     },
     "execution_count": 20,
     "metadata": {},
     "output_type": "execute_result"
    }
   ],
   "source": [
    "train = pd.concat([y_train, X_train], axis=1)\n",
    "train.head()"
   ]
  },
  {
   "cell_type": "markdown",
   "id": "1e6d78e9",
   "metadata": {},
   "source": [
    "# Correlation"
   ]
  },
  {
   "cell_type": "code",
   "execution_count": 21,
   "id": "98534dc1",
   "metadata": {
    "scrolled": true
   },
   "outputs": [
    {
     "data": {
      "text/html": [
       "<style type=\"text/css\">\n",
       "#T_57106_row0_col0, #T_57106_row0_col3, #T_57106_row0_col4, #T_57106_row1_col1, #T_57106_row2_col2, #T_57106_row3_col0, #T_57106_row3_col3, #T_57106_row3_col4, #T_57106_row4_col0, #T_57106_row4_col3, #T_57106_row4_col4, #T_57106_row5_col5, #T_57106_row6_col6, #T_57106_row7_col7 {\n",
       "  background-color: yellow;\n",
       "}\n",
       "</style>\n",
       "<table id=\"T_57106\">\n",
       "  <thead>\n",
       "    <tr>\n",
       "      <th class=\"blank level0\" >&nbsp;</th>\n",
       "      <th id=\"T_57106_level0_col0\" class=\"col_heading level0 col0\" >Price</th>\n",
       "      <th id=\"T_57106_level0_col1\" class=\"col_heading level0 col1\" >Rating</th>\n",
       "      <th id=\"T_57106_level0_col2\" class=\"col_heading level0 col2\" >Num_of_rating</th>\n",
       "      <th id=\"T_57106_level0_col3\" class=\"col_heading level0 col3\" >RAM</th>\n",
       "      <th id=\"T_57106_level0_col4\" class=\"col_heading level0 col4\" >ROM</th>\n",
       "      <th id=\"T_57106_level0_col5\" class=\"col_heading level0 col5\" >BACK_camera</th>\n",
       "      <th id=\"T_57106_level0_col6\" class=\"col_heading level0 col6\" >Front_camera</th>\n",
       "      <th id=\"T_57106_level0_col7\" class=\"col_heading level0 col7\" >Battery</th>\n",
       "    </tr>\n",
       "  </thead>\n",
       "  <tbody>\n",
       "    <tr>\n",
       "      <th id=\"T_57106_level0_row0\" class=\"row_heading level0 row0\" >Price</th>\n",
       "      <td id=\"T_57106_row0_col0\" class=\"data row0 col0\" >1.000000</td>\n",
       "      <td id=\"T_57106_row0_col1\" class=\"data row0 col1\" >0.134432</td>\n",
       "      <td id=\"T_57106_row0_col2\" class=\"data row0 col2\" >-0.360725</td>\n",
       "      <td id=\"T_57106_row0_col3\" class=\"data row0 col3\" >0.746990</td>\n",
       "      <td id=\"T_57106_row0_col4\" class=\"data row0 col4\" >0.717379</td>\n",
       "      <td id=\"T_57106_row0_col5\" class=\"data row0 col5\" >0.471809</td>\n",
       "      <td id=\"T_57106_row0_col6\" class=\"data row0 col6\" >0.676755</td>\n",
       "      <td id=\"T_57106_row0_col7\" class=\"data row0 col7\" >-0.243065</td>\n",
       "    </tr>\n",
       "    <tr>\n",
       "      <th id=\"T_57106_level0_row1\" class=\"row_heading level0 row1\" >Rating</th>\n",
       "      <td id=\"T_57106_row1_col0\" class=\"data row1 col0\" >0.134432</td>\n",
       "      <td id=\"T_57106_row1_col1\" class=\"data row1 col1\" >1.000000</td>\n",
       "      <td id=\"T_57106_row1_col2\" class=\"data row1 col2\" >0.286800</td>\n",
       "      <td id=\"T_57106_row1_col3\" class=\"data row1 col3\" >0.037869</td>\n",
       "      <td id=\"T_57106_row1_col4\" class=\"data row1 col4\" >0.106890</td>\n",
       "      <td id=\"T_57106_row1_col5\" class=\"data row1 col5\" >-0.023429</td>\n",
       "      <td id=\"T_57106_row1_col6\" class=\"data row1 col6\" >0.121234</td>\n",
       "      <td id=\"T_57106_row1_col7\" class=\"data row1 col7\" >-0.040216</td>\n",
       "    </tr>\n",
       "    <tr>\n",
       "      <th id=\"T_57106_level0_row2\" class=\"row_heading level0 row2\" >Num_of_rating</th>\n",
       "      <td id=\"T_57106_row2_col0\" class=\"data row2 col0\" >-0.360725</td>\n",
       "      <td id=\"T_57106_row2_col1\" class=\"data row2 col1\" >0.286800</td>\n",
       "      <td id=\"T_57106_row2_col2\" class=\"data row2 col2\" >1.000000</td>\n",
       "      <td id=\"T_57106_row2_col3\" class=\"data row2 col3\" >-0.355982</td>\n",
       "      <td id=\"T_57106_row2_col4\" class=\"data row2 col4\" >-0.334471</td>\n",
       "      <td id=\"T_57106_row2_col5\" class=\"data row2 col5\" >-0.212715</td>\n",
       "      <td id=\"T_57106_row2_col6\" class=\"data row2 col6\" >-0.177742</td>\n",
       "      <td id=\"T_57106_row2_col7\" class=\"data row2 col7\" >0.064410</td>\n",
       "    </tr>\n",
       "    <tr>\n",
       "      <th id=\"T_57106_level0_row3\" class=\"row_heading level0 row3\" >RAM</th>\n",
       "      <td id=\"T_57106_row3_col0\" class=\"data row3 col0\" >0.746990</td>\n",
       "      <td id=\"T_57106_row3_col1\" class=\"data row3 col1\" >0.037869</td>\n",
       "      <td id=\"T_57106_row3_col2\" class=\"data row3 col2\" >-0.355982</td>\n",
       "      <td id=\"T_57106_row3_col3\" class=\"data row3 col3\" >1.000000</td>\n",
       "      <td id=\"T_57106_row3_col4\" class=\"data row3 col4\" >0.830497</td>\n",
       "      <td id=\"T_57106_row3_col5\" class=\"data row3 col5\" >0.616377</td>\n",
       "      <td id=\"T_57106_row3_col6\" class=\"data row3 col6\" >0.673066</td>\n",
       "      <td id=\"T_57106_row3_col7\" class=\"data row3 col7\" >-0.009960</td>\n",
       "    </tr>\n",
       "    <tr>\n",
       "      <th id=\"T_57106_level0_row4\" class=\"row_heading level0 row4\" >ROM</th>\n",
       "      <td id=\"T_57106_row4_col0\" class=\"data row4 col0\" >0.717379</td>\n",
       "      <td id=\"T_57106_row4_col1\" class=\"data row4 col1\" >0.106890</td>\n",
       "      <td id=\"T_57106_row4_col2\" class=\"data row4 col2\" >-0.334471</td>\n",
       "      <td id=\"T_57106_row4_col3\" class=\"data row4 col3\" >0.830497</td>\n",
       "      <td id=\"T_57106_row4_col4\" class=\"data row4 col4\" >1.000000</td>\n",
       "      <td id=\"T_57106_row4_col5\" class=\"data row4 col5\" >0.603260</td>\n",
       "      <td id=\"T_57106_row4_col6\" class=\"data row4 col6\" >0.618534</td>\n",
       "      <td id=\"T_57106_row4_col7\" class=\"data row4 col7\" >0.054900</td>\n",
       "    </tr>\n",
       "    <tr>\n",
       "      <th id=\"T_57106_level0_row5\" class=\"row_heading level0 row5\" >BACK_camera</th>\n",
       "      <td id=\"T_57106_row5_col0\" class=\"data row5 col0\" >0.471809</td>\n",
       "      <td id=\"T_57106_row5_col1\" class=\"data row5 col1\" >-0.023429</td>\n",
       "      <td id=\"T_57106_row5_col2\" class=\"data row5 col2\" >-0.212715</td>\n",
       "      <td id=\"T_57106_row5_col3\" class=\"data row5 col3\" >0.616377</td>\n",
       "      <td id=\"T_57106_row5_col4\" class=\"data row5 col4\" >0.603260</td>\n",
       "      <td id=\"T_57106_row5_col5\" class=\"data row5 col5\" >1.000000</td>\n",
       "      <td id=\"T_57106_row5_col6\" class=\"data row5 col6\" >0.556474</td>\n",
       "      <td id=\"T_57106_row5_col7\" class=\"data row5 col7\" >0.202213</td>\n",
       "    </tr>\n",
       "    <tr>\n",
       "      <th id=\"T_57106_level0_row6\" class=\"row_heading level0 row6\" >Front_camera</th>\n",
       "      <td id=\"T_57106_row6_col0\" class=\"data row6 col0\" >0.676755</td>\n",
       "      <td id=\"T_57106_row6_col1\" class=\"data row6 col1\" >0.121234</td>\n",
       "      <td id=\"T_57106_row6_col2\" class=\"data row6 col2\" >-0.177742</td>\n",
       "      <td id=\"T_57106_row6_col3\" class=\"data row6 col3\" >0.673066</td>\n",
       "      <td id=\"T_57106_row6_col4\" class=\"data row6 col4\" >0.618534</td>\n",
       "      <td id=\"T_57106_row6_col5\" class=\"data row6 col5\" >0.556474</td>\n",
       "      <td id=\"T_57106_row6_col6\" class=\"data row6 col6\" >1.000000</td>\n",
       "      <td id=\"T_57106_row6_col7\" class=\"data row6 col7\" >-0.141864</td>\n",
       "    </tr>\n",
       "    <tr>\n",
       "      <th id=\"T_57106_level0_row7\" class=\"row_heading level0 row7\" >Battery</th>\n",
       "      <td id=\"T_57106_row7_col0\" class=\"data row7 col0\" >-0.243065</td>\n",
       "      <td id=\"T_57106_row7_col1\" class=\"data row7 col1\" >-0.040216</td>\n",
       "      <td id=\"T_57106_row7_col2\" class=\"data row7 col2\" >0.064410</td>\n",
       "      <td id=\"T_57106_row7_col3\" class=\"data row7 col3\" >-0.009960</td>\n",
       "      <td id=\"T_57106_row7_col4\" class=\"data row7 col4\" >0.054900</td>\n",
       "      <td id=\"T_57106_row7_col5\" class=\"data row7 col5\" >0.202213</td>\n",
       "      <td id=\"T_57106_row7_col6\" class=\"data row7 col6\" >-0.141864</td>\n",
       "      <td id=\"T_57106_row7_col7\" class=\"data row7 col7\" >1.000000</td>\n",
       "    </tr>\n",
       "  </tbody>\n",
       "</table>\n"
      ],
      "text/plain": [
       "<pandas.io.formats.style.Styler at 0x7f77685d1340>"
      ]
     },
     "execution_count": 21,
     "metadata": {},
     "output_type": "execute_result"
    }
   ],
   "source": [
    "Correlation = train.corr()\n",
    "Correlation.style.applymap(lambda x: 'background-color : yellow' if x > 0.7 else '')"
   ]
  },
  {
   "cell_type": "markdown",
   "id": "1e892f7c",
   "metadata": {},
   "source": [
    "# Correlation\n",
    "* RAM and ROM have high impact on Price of Phone\n",
    "* Multi-Colinearity is Present"
   ]
  },
  {
   "cell_type": "code",
   "execution_count": 22,
   "id": "62768e4d",
   "metadata": {},
   "outputs": [
    {
     "data": {
      "text/plain": [
       "Rating           72.524024\n",
       "Num_of_rating     1.958339\n",
       "RAM              20.317575\n",
       "ROM              13.133041\n",
       "BACK_camera       7.439532\n",
       "Front_camera      8.518173\n",
       "Battery          64.439168\n",
       "dtype: float64"
      ]
     },
     "execution_count": 22,
     "metadata": {},
     "output_type": "execute_result"
    }
   ],
   "source": [
    "from statsmodels.stats.outliers_influence import variance_inflation_factor\n",
    "X1 = df.drop(['Price'],axis=1)\n",
    "series_before = pd.Series([variance_inflation_factor(X1.values, i) for i in range(X1.shape[1])],index=X1.columns) \n",
    "series_before"
   ]
  },
  {
   "cell_type": "markdown",
   "id": "c4203d8f",
   "metadata": {},
   "source": [
    "# Model Builiding"
   ]
  },
  {
   "cell_type": "markdown",
   "id": "7cc9f96e",
   "metadata": {},
   "source": [
    "#### Method 2 -- Variable selection Method\n",
    "1. Forward Selection Method\n",
    "2. Backward Selection Method"
   ]
  },
  {
   "cell_type": "code",
   "execution_count": 23,
   "id": "f110d32b",
   "metadata": {},
   "outputs": [
    {
     "data": {
      "text/plain": [
       "SequentialFeatureSelector(estimator=LinearRegression(), n_features_to_select=5,\n",
       "                          scoring='r2')"
      ]
     },
     "execution_count": 23,
     "metadata": {},
     "output_type": "execute_result"
    }
   ],
   "source": [
    "from sklearn.linear_model import LinearRegression\n",
    "from sklearn.feature_selection import SequentialFeatureSelector as sfs\n",
    "\n",
    "lreg = LinearRegression()\n",
    "Model = sfs(lreg, n_features_to_select = 5, direction='forward', scoring='r2')\n",
    "Model.fit(X_train,y_train)"
   ]
  },
  {
   "cell_type": "code",
   "execution_count": 24,
   "id": "e8e1618c",
   "metadata": {
    "scrolled": true
   },
   "outputs": [
    {
     "data": {
      "text/plain": [
       "array(['Rating', 'Num_of_rating', 'RAM', 'ROM', 'BACK_camera',\n",
       "       'Front_camera', 'Battery'], dtype=object)"
      ]
     },
     "execution_count": 24,
     "metadata": {},
     "output_type": "execute_result"
    }
   ],
   "source": [
    "Model.feature_names_in_"
   ]
  },
  {
   "cell_type": "code",
   "execution_count": 25,
   "id": "fc991964",
   "metadata": {
    "scrolled": true
   },
   "outputs": [
    {
     "data": {
      "text/plain": [
       "array(['Num_of_rating', 'RAM', 'ROM', 'Front_camera', 'Battery'],\n",
       "      dtype=object)"
      ]
     },
     "execution_count": 25,
     "metadata": {},
     "output_type": "execute_result"
    }
   ],
   "source": [
    "Model.get_feature_names_out()"
   ]
  },
  {
   "cell_type": "markdown",
   "id": "96ae7eb9",
   "metadata": {},
   "source": [
    "#### Method 2 -- sklearn"
   ]
  },
  {
   "cell_type": "code",
   "execution_count": 26,
   "id": "af54c059",
   "metadata": {},
   "outputs": [],
   "source": [
    "from sklearn.linear_model import LinearRegression"
   ]
  },
  {
   "cell_type": "code",
   "execution_count": 27,
   "id": "4fcc23f8",
   "metadata": {
    "scrolled": true
   },
   "outputs": [
    {
     "data": {
      "text/html": [
       "<div>\n",
       "<style scoped>\n",
       "    .dataframe tbody tr th:only-of-type {\n",
       "        vertical-align: middle;\n",
       "    }\n",
       "\n",
       "    .dataframe tbody tr th {\n",
       "        vertical-align: top;\n",
       "    }\n",
       "\n",
       "    .dataframe thead th {\n",
       "        text-align: right;\n",
       "    }\n",
       "</style>\n",
       "<table border=\"1\" class=\"dataframe\">\n",
       "  <thead>\n",
       "    <tr style=\"text-align: right;\">\n",
       "      <th></th>\n",
       "      <th>RAM</th>\n",
       "      <th>ROM</th>\n",
       "      <th>Front_camera</th>\n",
       "      <th>Battery</th>\n",
       "    </tr>\n",
       "  </thead>\n",
       "  <tbody>\n",
       "    <tr>\n",
       "      <th>223</th>\n",
       "      <td>8.0</td>\n",
       "      <td>224.0</td>\n",
       "      <td>28.0</td>\n",
       "      <td>4200.0</td>\n",
       "    </tr>\n",
       "    <tr>\n",
       "      <th>976</th>\n",
       "      <td>4.0</td>\n",
       "      <td>128.0</td>\n",
       "      <td>8.0</td>\n",
       "      <td>5000.0</td>\n",
       "    </tr>\n",
       "    <tr>\n",
       "      <th>1196</th>\n",
       "      <td>3.0</td>\n",
       "      <td>32.0</td>\n",
       "      <td>5.0</td>\n",
       "      <td>4850.0</td>\n",
       "    </tr>\n",
       "    <tr>\n",
       "      <th>969</th>\n",
       "      <td>8.0</td>\n",
       "      <td>128.0</td>\n",
       "      <td>28.0</td>\n",
       "      <td>4000.0</td>\n",
       "    </tr>\n",
       "    <tr>\n",
       "      <th>253</th>\n",
       "      <td>8.0</td>\n",
       "      <td>224.0</td>\n",
       "      <td>28.0</td>\n",
       "      <td>4300.0</td>\n",
       "    </tr>\n",
       "  </tbody>\n",
       "</table>\n",
       "</div>"
      ],
      "text/plain": [
       "      RAM    ROM  Front_camera  Battery\n",
       "223   8.0  224.0          28.0   4200.0\n",
       "976   4.0  128.0           8.0   5000.0\n",
       "1196  3.0   32.0           5.0   4850.0\n",
       "969   8.0  128.0          28.0   4000.0\n",
       "253   8.0  224.0          28.0   4300.0"
      ]
     },
     "execution_count": 27,
     "metadata": {},
     "output_type": "execute_result"
    }
   ],
   "source": [
    "X_train = X_train.loc[:,['RAM', 'ROM','Front_camera','Battery']]\n",
    "X_train.head()"
   ]
  },
  {
   "cell_type": "code",
   "execution_count": 28,
   "id": "bd2730bc",
   "metadata": {
    "scrolled": true
   },
   "outputs": [
    {
     "data": {
      "text/html": [
       "<div>\n",
       "<style scoped>\n",
       "    .dataframe tbody tr th:only-of-type {\n",
       "        vertical-align: middle;\n",
       "    }\n",
       "\n",
       "    .dataframe tbody tr th {\n",
       "        vertical-align: top;\n",
       "    }\n",
       "\n",
       "    .dataframe thead th {\n",
       "        text-align: right;\n",
       "    }\n",
       "</style>\n",
       "<table border=\"1\" class=\"dataframe\">\n",
       "  <thead>\n",
       "    <tr style=\"text-align: right;\">\n",
       "      <th></th>\n",
       "      <th>RAM</th>\n",
       "      <th>ROM</th>\n",
       "      <th>Front_camera</th>\n",
       "      <th>Battery</th>\n",
       "      <th>Price</th>\n",
       "    </tr>\n",
       "  </thead>\n",
       "  <tbody>\n",
       "    <tr>\n",
       "      <th>223</th>\n",
       "      <td>8.0</td>\n",
       "      <td>224.0</td>\n",
       "      <td>28.0</td>\n",
       "      <td>4200.0</td>\n",
       "      <td>14999.0</td>\n",
       "    </tr>\n",
       "    <tr>\n",
       "      <th>976</th>\n",
       "      <td>4.0</td>\n",
       "      <td>128.0</td>\n",
       "      <td>8.0</td>\n",
       "      <td>5000.0</td>\n",
       "      <td>14999.0</td>\n",
       "    </tr>\n",
       "    <tr>\n",
       "      <th>1196</th>\n",
       "      <td>3.0</td>\n",
       "      <td>32.0</td>\n",
       "      <td>5.0</td>\n",
       "      <td>4850.0</td>\n",
       "      <td>14999.0</td>\n",
       "    </tr>\n",
       "    <tr>\n",
       "      <th>969</th>\n",
       "      <td>8.0</td>\n",
       "      <td>128.0</td>\n",
       "      <td>28.0</td>\n",
       "      <td>4000.0</td>\n",
       "      <td>27990.0</td>\n",
       "    </tr>\n",
       "    <tr>\n",
       "      <th>253</th>\n",
       "      <td>8.0</td>\n",
       "      <td>224.0</td>\n",
       "      <td>28.0</td>\n",
       "      <td>4300.0</td>\n",
       "      <td>24999.0</td>\n",
       "    </tr>\n",
       "  </tbody>\n",
       "</table>\n",
       "</div>"
      ],
      "text/plain": [
       "      RAM    ROM  Front_camera  Battery    Price\n",
       "223   8.0  224.0          28.0   4200.0  14999.0\n",
       "976   4.0  128.0           8.0   5000.0  14999.0\n",
       "1196  3.0   32.0           5.0   4850.0  14999.0\n",
       "969   8.0  128.0          28.0   4000.0  27990.0\n",
       "253   8.0  224.0          28.0   4300.0  24999.0"
      ]
     },
     "execution_count": 28,
     "metadata": {},
     "output_type": "execute_result"
    }
   ],
   "source": [
    "train = pd.concat([X_train,y_train], axis=1)\n",
    "train.head()"
   ]
  },
  {
   "cell_type": "code",
   "execution_count": 29,
   "id": "44be2030",
   "metadata": {},
   "outputs": [
    {
     "data": {
      "text/plain": [
       "LinearRegression()"
      ]
     },
     "execution_count": 29,
     "metadata": {},
     "output_type": "execute_result"
    }
   ],
   "source": [
    "Model3 = LinearRegression()\n",
    "Model3.fit(X_train,y_train)"
   ]
  },
  {
   "cell_type": "code",
   "execution_count": 30,
   "id": "1fbfb46f",
   "metadata": {},
   "outputs": [
    {
     "data": {
      "text/plain": [
       "array([18240.319])"
      ]
     },
     "execution_count": 30,
     "metadata": {},
     "output_type": "execute_result"
    }
   ],
   "source": [
    "np.round(Model3.intercept_,3)"
   ]
  },
  {
   "cell_type": "code",
   "execution_count": 31,
   "id": "481e8e70",
   "metadata": {
    "scrolled": true
   },
   "outputs": [
    {
     "data": {
      "text/plain": [
       "array([[1374.2112,   55.2753,  302.081 ,   -3.6302]])"
      ]
     },
     "execution_count": 31,
     "metadata": {},
     "output_type": "execute_result"
    }
   ],
   "source": [
    "np.round(Model3.coef_,4)"
   ]
  },
  {
   "cell_type": "code",
   "execution_count": 32,
   "id": "7630c9d1",
   "metadata": {
    "scrolled": true
   },
   "outputs": [
    {
     "data": {
      "text/plain": [
       "array(['RAM', 'ROM', 'Front_camera', 'Battery'], dtype=object)"
      ]
     },
     "execution_count": 32,
     "metadata": {},
     "output_type": "execute_result"
    }
   ],
   "source": [
    "Model3.feature_names_in_"
   ]
  },
  {
   "cell_type": "markdown",
   "id": "83e2ab86",
   "metadata": {},
   "source": [
    "#### Model"
   ]
  },
  {
   "cell_type": "markdown",
   "id": "3bee0053",
   "metadata": {},
   "source": [
    "* y = 18240.319 + 1374.2112 * RAM +   55.2753 * ROM +  302.081 * Front_camera +   -3.6302 * Battery"
   ]
  },
  {
   "cell_type": "markdown",
   "id": "e6ed8931",
   "metadata": {},
   "source": [
    "# Prediction on Train"
   ]
  },
  {
   "cell_type": "code",
   "execution_count": 33,
   "id": "2e1e13e6",
   "metadata": {
    "scrolled": true
   },
   "outputs": [
    {
     "data": {
      "text/html": [
       "<div>\n",
       "<style scoped>\n",
       "    .dataframe tbody tr th:only-of-type {\n",
       "        vertical-align: middle;\n",
       "    }\n",
       "\n",
       "    .dataframe tbody tr th {\n",
       "        vertical-align: top;\n",
       "    }\n",
       "\n",
       "    .dataframe thead th {\n",
       "        text-align: right;\n",
       "    }\n",
       "</style>\n",
       "<table border=\"1\" class=\"dataframe\">\n",
       "  <thead>\n",
       "    <tr style=\"text-align: right;\">\n",
       "      <th></th>\n",
       "      <th>RAM</th>\n",
       "      <th>ROM</th>\n",
       "      <th>Front_camera</th>\n",
       "      <th>Battery</th>\n",
       "      <th>Price</th>\n",
       "      <th>fitted_value</th>\n",
       "      <th>Residual</th>\n",
       "    </tr>\n",
       "  </thead>\n",
       "  <tbody>\n",
       "    <tr>\n",
       "      <th>223</th>\n",
       "      <td>8.0</td>\n",
       "      <td>224.0</td>\n",
       "      <td>28.0</td>\n",
       "      <td>4200.0</td>\n",
       "      <td>14999.0</td>\n",
       "      <td>34827.13</td>\n",
       "      <td>-19828.13</td>\n",
       "    </tr>\n",
       "    <tr>\n",
       "      <th>976</th>\n",
       "      <td>4.0</td>\n",
       "      <td>128.0</td>\n",
       "      <td>8.0</td>\n",
       "      <td>5000.0</td>\n",
       "      <td>14999.0</td>\n",
       "      <td>15078.08</td>\n",
       "      <td>-79.08</td>\n",
       "    </tr>\n",
       "    <tr>\n",
       "      <th>1196</th>\n",
       "      <td>3.0</td>\n",
       "      <td>32.0</td>\n",
       "      <td>5.0</td>\n",
       "      <td>4850.0</td>\n",
       "      <td>14999.0</td>\n",
       "      <td>8035.73</td>\n",
       "      <td>6963.27</td>\n",
       "    </tr>\n",
       "    <tr>\n",
       "      <th>969</th>\n",
       "      <td>8.0</td>\n",
       "      <td>128.0</td>\n",
       "      <td>28.0</td>\n",
       "      <td>4000.0</td>\n",
       "      <td>27990.0</td>\n",
       "      <td>30246.74</td>\n",
       "      <td>-2256.74</td>\n",
       "    </tr>\n",
       "    <tr>\n",
       "      <th>253</th>\n",
       "      <td>8.0</td>\n",
       "      <td>224.0</td>\n",
       "      <td>28.0</td>\n",
       "      <td>4300.0</td>\n",
       "      <td>24999.0</td>\n",
       "      <td>34464.11</td>\n",
       "      <td>-9465.11</td>\n",
       "    </tr>\n",
       "  </tbody>\n",
       "</table>\n",
       "</div>"
      ],
      "text/plain": [
       "      RAM    ROM  Front_camera  Battery    Price  fitted_value  Residual\n",
       "223   8.0  224.0          28.0   4200.0  14999.0      34827.13 -19828.13\n",
       "976   4.0  128.0           8.0   5000.0  14999.0      15078.08    -79.08\n",
       "1196  3.0   32.0           5.0   4850.0  14999.0       8035.73   6963.27\n",
       "969   8.0  128.0          28.0   4000.0  27990.0      30246.74  -2256.74\n",
       "253   8.0  224.0          28.0   4300.0  24999.0      34464.11  -9465.11"
      ]
     },
     "execution_count": 33,
     "metadata": {},
     "output_type": "execute_result"
    }
   ],
   "source": [
    "import numpy as np\n",
    "train['fitted_value'] = np.round(Model3.predict(X_train),2)\n",
    "train['Residual'] = np.round(train.Price - train.fitted_value,2)\n",
    "train.head()"
   ]
  },
  {
   "cell_type": "code",
   "execution_count": 34,
   "id": "0dd6fde9",
   "metadata": {},
   "outputs": [
    {
     "name": "stdout",
     "output_type": "stream",
     "text": [
      "R-Squared score for model Performance on Train :  68.0\n"
     ]
    }
   ],
   "source": [
    "from sklearn.metrics import r2_score\n",
    "r2 = r2_score(train.Price,train.fitted_value)\n",
    "print('R-Squared score for model Performance on Train : ', np.round(r2,2)*100)"
   ]
  },
  {
   "cell_type": "markdown",
   "id": "a0bcbcbb",
   "metadata": {},
   "source": [
    "# Assumption of Linear Regression "
   ]
  },
  {
   "cell_type": "code",
   "execution_count": 35,
   "id": "92d62695",
   "metadata": {},
   "outputs": [
    {
     "data": {
      "text/plain": [
       "<AxesSubplot:xlabel='RAM', ylabel='Residual'>"
      ]
     },
     "execution_count": 35,
     "metadata": {},
     "output_type": "execute_result"
    },
    {
     "data": {
      "image/png": "[encoded data removed]",
      "text/plain": [
       "<Figure size 432x288 with 1 Axes>"
      ]
     },
     "metadata": {
      "needs_background": "light"
     },
     "output_type": "display_data"
    }
   ],
   "source": [
    "sns.scatterplot(x='RAM', y='Residual',data=train)"
   ]
  },
  {
   "cell_type": "code",
   "execution_count": 36,
   "id": "f1154c1c",
   "metadata": {
    "scrolled": true
   },
   "outputs": [
    {
     "data": {
      "text/plain": [
       "<AxesSubplot:xlabel='fitted_value', ylabel='Residual'>"
      ]
     },
     "execution_count": 36,
     "metadata": {},
     "output_type": "execute_result"
    },
    {
     "data": {
      "image/png": "[encoded data removed]",
      "text/plain": [
       "<Figure size 432x288 with 1 Axes>"
      ]
     },
     "metadata": {
      "needs_background": "light"
     },
     "output_type": "display_data"
    }
   ],
   "source": [
    "sns.scatterplot(x='fitted_value', y='Residual',data=train)"
   ]
  },
  {
   "cell_type": "code",
   "execution_count": 37,
   "id": "07006c17",
   "metadata": {
    "scrolled": true
   },
   "outputs": [
    {
     "data": {
      "image/png": "[encoded data removed]",
      "text/plain": [
       "<Figure size 432x288 with 1 Axes>"
      ]
     },
     "metadata": {
      "needs_background": "light"
     },
     "output_type": "display_data"
    }
   ],
   "source": [
    "import statsmodels.api as sm\n",
    "from matplotlib import pyplot as plt\n",
    "\n",
    "fig = sm.qqplot(train['Residual'], fit=True, line='s') # s indicate standardized line\n",
    "plt.show()"
   ]
  },
  {
   "cell_type": "code",
   "execution_count": 38,
   "id": "8c3a3089",
   "metadata": {
    "scrolled": true
   },
   "outputs": [
    {
     "data": {
      "text/plain": [
       "<AxesSubplot:ylabel='Frequency'>"
      ]
     },
     "execution_count": 38,
     "metadata": {},
     "output_type": "execute_result"
    },
    {
     "data": {
      "image/png": "[encoded data removed]",
      "text/plain": [
       "<Figure size 432x288 with 1 Axes>"
      ]
     },
     "metadata": {
      "needs_background": "light"
     },
     "output_type": "display_data"
    }
   ],
   "source": [
    "train['Residual'].plot.hist()"
   ]
  },
  {
   "cell_type": "markdown",
   "id": "cb661e2f",
   "metadata": {},
   "source": [
    "# Prediction on Test"
   ]
  },
  {
   "cell_type": "code",
   "execution_count": 39,
   "id": "db60c3f3",
   "metadata": {
    "scrolled": true
   },
   "outputs": [
    {
     "data": {
      "text/html": [
       "<div>\n",
       "<style scoped>\n",
       "    .dataframe tbody tr th:only-of-type {\n",
       "        vertical-align: middle;\n",
       "    }\n",
       "\n",
       "    .dataframe tbody tr th {\n",
       "        vertical-align: top;\n",
       "    }\n",
       "\n",
       "    .dataframe thead th {\n",
       "        text-align: right;\n",
       "    }\n",
       "</style>\n",
       "<table border=\"1\" class=\"dataframe\">\n",
       "  <thead>\n",
       "    <tr style=\"text-align: right;\">\n",
       "      <th></th>\n",
       "      <th>RAM</th>\n",
       "      <th>ROM</th>\n",
       "      <th>Front_camera</th>\n",
       "      <th>Battery</th>\n",
       "    </tr>\n",
       "  </thead>\n",
       "  <tbody>\n",
       "    <tr>\n",
       "      <th>1356</th>\n",
       "      <td>4.0</td>\n",
       "      <td>64.0</td>\n",
       "      <td>8.0</td>\n",
       "      <td>5000.0</td>\n",
       "    </tr>\n",
       "    <tr>\n",
       "      <th>1018</th>\n",
       "      <td>8.0</td>\n",
       "      <td>128.0</td>\n",
       "      <td>28.0</td>\n",
       "      <td>4300.0</td>\n",
       "    </tr>\n",
       "    <tr>\n",
       "      <th>1751</th>\n",
       "      <td>4.0</td>\n",
       "      <td>64.0</td>\n",
       "      <td>8.0</td>\n",
       "      <td>6000.0</td>\n",
       "    </tr>\n",
       "    <tr>\n",
       "      <th>1655</th>\n",
       "      <td>3.0</td>\n",
       "      <td>32.0</td>\n",
       "      <td>8.0</td>\n",
       "      <td>3250.0</td>\n",
       "    </tr>\n",
       "    <tr>\n",
       "      <th>1481</th>\n",
       "      <td>12.0</td>\n",
       "      <td>224.0</td>\n",
       "      <td>28.0</td>\n",
       "      <td>4610.0</td>\n",
       "    </tr>\n",
       "  </tbody>\n",
       "</table>\n",
       "</div>"
      ],
      "text/plain": [
       "       RAM    ROM  Front_camera  Battery\n",
       "1356   4.0   64.0           8.0   5000.0\n",
       "1018   8.0  128.0          28.0   4300.0\n",
       "1751   4.0   64.0           8.0   6000.0\n",
       "1655   3.0   32.0           8.0   3250.0\n",
       "1481  12.0  224.0          28.0   4610.0"
      ]
     },
     "execution_count": 39,
     "metadata": {},
     "output_type": "execute_result"
    }
   ],
   "source": [
    "X_test = X_test.loc[:,['RAM', 'ROM', 'Front_camera', 'Battery']]\n",
    "X_test.head()"
   ]
  },
  {
   "cell_type": "code",
   "execution_count": 40,
   "id": "1e93beeb",
   "metadata": {
    "scrolled": true
   },
   "outputs": [
    {
     "data": {
      "text/html": [
       "<div>\n",
       "<style scoped>\n",
       "    .dataframe tbody tr th:only-of-type {\n",
       "        vertical-align: middle;\n",
       "    }\n",
       "\n",
       "    .dataframe tbody tr th {\n",
       "        vertical-align: top;\n",
       "    }\n",
       "\n",
       "    .dataframe thead th {\n",
       "        text-align: right;\n",
       "    }\n",
       "</style>\n",
       "<table border=\"1\" class=\"dataframe\">\n",
       "  <thead>\n",
       "    <tr style=\"text-align: right;\">\n",
       "      <th></th>\n",
       "      <th>RAM</th>\n",
       "      <th>ROM</th>\n",
       "      <th>Front_camera</th>\n",
       "      <th>Battery</th>\n",
       "      <th>Price</th>\n",
       "    </tr>\n",
       "  </thead>\n",
       "  <tbody>\n",
       "    <tr>\n",
       "      <th>1356</th>\n",
       "      <td>4.0</td>\n",
       "      <td>64.0</td>\n",
       "      <td>8.0</td>\n",
       "      <td>5000.0</td>\n",
       "      <td>13999.0</td>\n",
       "    </tr>\n",
       "    <tr>\n",
       "      <th>1018</th>\n",
       "      <td>8.0</td>\n",
       "      <td>128.0</td>\n",
       "      <td>28.0</td>\n",
       "      <td>4300.0</td>\n",
       "      <td>37990.0</td>\n",
       "    </tr>\n",
       "    <tr>\n",
       "      <th>1751</th>\n",
       "      <td>4.0</td>\n",
       "      <td>64.0</td>\n",
       "      <td>8.0</td>\n",
       "      <td>6000.0</td>\n",
       "      <td>8999.0</td>\n",
       "    </tr>\n",
       "    <tr>\n",
       "      <th>1655</th>\n",
       "      <td>3.0</td>\n",
       "      <td>32.0</td>\n",
       "      <td>8.0</td>\n",
       "      <td>3250.0</td>\n",
       "      <td>39999.0</td>\n",
       "    </tr>\n",
       "    <tr>\n",
       "      <th>1481</th>\n",
       "      <td>12.0</td>\n",
       "      <td>224.0</td>\n",
       "      <td>28.0</td>\n",
       "      <td>4610.0</td>\n",
       "      <td>41012.5</td>\n",
       "    </tr>\n",
       "  </tbody>\n",
       "</table>\n",
       "</div>"
      ],
      "text/plain": [
       "       RAM    ROM  Front_camera  Battery    Price\n",
       "1356   4.0   64.0           8.0   5000.0  13999.0\n",
       "1018   8.0  128.0          28.0   4300.0  37990.0\n",
       "1751   4.0   64.0           8.0   6000.0   8999.0\n",
       "1655   3.0   32.0           8.0   3250.0  39999.0\n",
       "1481  12.0  224.0          28.0   4610.0  41012.5"
      ]
     },
     "execution_count": 40,
     "metadata": {},
     "output_type": "execute_result"
    }
   ],
   "source": [
    "test = pd.concat([X_test,y_test], axis=1)\n",
    "test.head()"
   ]
  },
  {
   "cell_type": "code",
   "execution_count": 41,
   "id": "0ccbb05f",
   "metadata": {
    "scrolled": true
   },
   "outputs": [
    {
     "data": {
      "text/html": [
       "<div>\n",
       "<style scoped>\n",
       "    .dataframe tbody tr th:only-of-type {\n",
       "        vertical-align: middle;\n",
       "    }\n",
       "\n",
       "    .dataframe tbody tr th {\n",
       "        vertical-align: top;\n",
       "    }\n",
       "\n",
       "    .dataframe thead th {\n",
       "        text-align: right;\n",
       "    }\n",
       "</style>\n",
       "<table border=\"1\" class=\"dataframe\">\n",
       "  <thead>\n",
       "    <tr style=\"text-align: right;\">\n",
       "      <th></th>\n",
       "      <th>RAM</th>\n",
       "      <th>ROM</th>\n",
       "      <th>Front_camera</th>\n",
       "      <th>Battery</th>\n",
       "      <th>Price</th>\n",
       "      <th>Prediction</th>\n",
       "      <th>Error / Residual</th>\n",
       "    </tr>\n",
       "  </thead>\n",
       "  <tbody>\n",
       "    <tr>\n",
       "      <th>1356</th>\n",
       "      <td>4.0</td>\n",
       "      <td>64.0</td>\n",
       "      <td>8.0</td>\n",
       "      <td>5000.0</td>\n",
       "      <td>13999.0</td>\n",
       "      <td>11540.46</td>\n",
       "      <td>2458.54</td>\n",
       "    </tr>\n",
       "    <tr>\n",
       "      <th>1018</th>\n",
       "      <td>8.0</td>\n",
       "      <td>128.0</td>\n",
       "      <td>28.0</td>\n",
       "      <td>4300.0</td>\n",
       "      <td>37990.0</td>\n",
       "      <td>29157.68</td>\n",
       "      <td>8832.32</td>\n",
       "    </tr>\n",
       "    <tr>\n",
       "      <th>1751</th>\n",
       "      <td>4.0</td>\n",
       "      <td>64.0</td>\n",
       "      <td>8.0</td>\n",
       "      <td>6000.0</td>\n",
       "      <td>8999.0</td>\n",
       "      <td>7910.27</td>\n",
       "      <td>1088.73</td>\n",
       "    </tr>\n",
       "    <tr>\n",
       "      <th>1655</th>\n",
       "      <td>3.0</td>\n",
       "      <td>32.0</td>\n",
       "      <td>8.0</td>\n",
       "      <td>3250.0</td>\n",
       "      <td>39999.0</td>\n",
       "      <td>14750.28</td>\n",
       "      <td>25248.72</td>\n",
       "    </tr>\n",
       "    <tr>\n",
       "      <th>1481</th>\n",
       "      <td>12.0</td>\n",
       "      <td>224.0</td>\n",
       "      <td>28.0</td>\n",
       "      <td>4610.0</td>\n",
       "      <td>41012.5</td>\n",
       "      <td>38835.59</td>\n",
       "      <td>2176.91</td>\n",
       "    </tr>\n",
       "  </tbody>\n",
       "</table>\n",
       "</div>"
      ],
      "text/plain": [
       "       RAM    ROM  Front_camera  Battery    Price  Prediction  \\\n",
       "1356   4.0   64.0           8.0   5000.0  13999.0    11540.46   \n",
       "1018   8.0  128.0          28.0   4300.0  37990.0    29157.68   \n",
       "1751   4.0   64.0           8.0   6000.0   8999.0     7910.27   \n",
       "1655   3.0   32.0           8.0   3250.0  39999.0    14750.28   \n",
       "1481  12.0  224.0          28.0   4610.0  41012.5    38835.59   \n",
       "\n",
       "      Error / Residual  \n",
       "1356           2458.54  \n",
       "1018           8832.32  \n",
       "1751           1088.73  \n",
       "1655          25248.72  \n",
       "1481           2176.91  "
      ]
     },
     "execution_count": 41,
     "metadata": {},
     "output_type": "execute_result"
    }
   ],
   "source": [
    "import numpy as np\n",
    "test['Prediction'] = np.round(Model3.predict(X_test),2)\n",
    "test['Error / Residual'] = np.round(test.Price - test.Prediction,2)\n",
    "test.head()"
   ]
  },
  {
   "cell_type": "markdown",
   "id": "806a1257",
   "metadata": {},
   "source": [
    "# Comparision"
   ]
  },
  {
   "cell_type": "code",
   "execution_count": 42,
   "id": "6e014b2b",
   "metadata": {},
   "outputs": [
    {
     "name": "stdout",
     "output_type": "stream",
     "text": [
      "R-Squared score for model Performance on Train :  68.0\n"
     ]
    }
   ],
   "source": [
    "from sklearn.metrics import r2_score\n",
    "r2 = r2_score(train.Price,train.fitted_value)\n",
    "print('R-Squared score for model Performance on Train : ', np.round(r2,2)*100)"
   ]
  },
  {
   "cell_type": "code",
   "execution_count": 43,
   "id": "093fae9c",
   "metadata": {},
   "outputs": [
    {
     "name": "stdout",
     "output_type": "stream",
     "text": [
      "R-Squared score for model Performance on Test :  60.0\n"
     ]
    }
   ],
   "source": [
    "r2 = r2_score(test.Price,test.Prediction)\n",
    "print('R-Squared score for model Performance on Test : ', np.round(r2,2)*100)"
   ]
  },
  {
   "cell_type": "markdown",
   "id": "a06ddd47",
   "metadata": {},
   "source": [
    "# Loss Function -- RMSE"
   ]
  },
  {
   "cell_type": "code",
   "execution_count": 44,
   "id": "d8f663c3",
   "metadata": {},
   "outputs": [
    {
     "name": "stdout",
     "output_type": "stream",
     "text": [
      "RMSE of Train Data :  5644.76\n"
     ]
    }
   ],
   "source": [
    "from sklearn.metrics import mean_squared_error \n",
    "\n",
    "model_mse = mean_squared_error(train['Price'],train['fitted_value'])\n",
    "model_rmse = np.sqrt(model_mse)\n",
    "\n",
    "print(\"RMSE of Train Data : \",np.round(model_rmse,2)) "
   ]
  },
  {
   "cell_type": "code",
   "execution_count": 45,
   "id": "9a0aabdd",
   "metadata": {},
   "outputs": [
    {
     "name": "stdout",
     "output_type": "stream",
     "text": [
      "RMSE of Test Data :  5818.01\n"
     ]
    }
   ],
   "source": [
    "model_mse = mean_squared_error(test['Price'],test['Prediction'])\n",
    "model_rmse = np.sqrt(model_mse)\n",
    "\n",
    "print(\"RMSE of Test Data : \",np.round(model_rmse,2)) "
   ]
  }
 ],
 "metadata": {
  "kernelspec": {
   "display_name": "Python 3 (ipykernel)",
   "language": "python",
   "name": "python3"
  },
  "language_info": {
   "codemirror_mode": {
    "name": "ipython",
    "version": 3
   },
   "file_extension": ".py",
   "mimetype": "text/x-python",
   "name": "python",
   "nbconvert_exporter": "python",
   "pygments_lexer": "ipython3",
   "version": "3.9.12"
  }
 },
 "nbformat": 4,
 "nbformat_minor": 5
}
