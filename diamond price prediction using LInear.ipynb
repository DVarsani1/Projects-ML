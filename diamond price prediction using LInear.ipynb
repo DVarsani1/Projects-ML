{
 "cells": [
  {
   "cell_type": "code",
   "execution_count": 1,
   "id": "23740db1",
   "metadata": {},
   "outputs": [],
   "source": [
    "import pandas as pd\n",
    "import numpy as np\n",
    "import re\n",
    "import warnings\n",
    "warnings.filterwarnings(\"ignore\")"
   ]
  },
  {
   "cell_type": "code",
   "execution_count": 2,
   "id": "541ff6bf",
   "metadata": {
    "scrolled": true
   },
   "outputs": [
    {
     "name": "stdout",
     "output_type": "stream",
     "text": [
      "<class 'pandas.core.frame.DataFrame'>\n",
      "RangeIndex: 53940 entries, 0 to 53939\n",
      "Data columns (total 11 columns):\n",
      " #   Column      Non-Null Count  Dtype  \n",
      "---  ------      --------------  -----  \n",
      " 0   Unnamed: 0  53940 non-null  int64  \n",
      " 1   carat       53940 non-null  float64\n",
      " 2   cut         53940 non-null  object \n",
      " 3   color       53940 non-null  object \n",
      " 4   clarity     53940 non-null  object \n",
      " 5   depth       53940 non-null  float64\n",
      " 6   table       53940 non-null  float64\n",
      " 7   price       53940 non-null  int64  \n",
      " 8   x           53940 non-null  float64\n",
      " 9   y           53940 non-null  float64\n",
      " 10  z           53940 non-null  float64\n",
      "dtypes: float64(6), int64(2), object(3)\n",
      "memory usage: 4.5+ MB\n"
     ]
    }
   ],
   "source": [
    "df = pd.read_csv(r\"diamonds.csv\")\n",
    "df.info()"
   ]
  },
  {
   "cell_type": "code",
   "execution_count": 3,
   "id": "5f32ab77",
   "metadata": {
    "scrolled": true
   },
   "outputs": [
    {
     "data": {
      "text/html": [
       "<div>\n",
       "<style scoped>\n",
       "    .dataframe tbody tr th:only-of-type {\n",
       "        vertical-align: middle;\n",
       "    }\n",
       "\n",
       "    .dataframe tbody tr th {\n",
       "        vertical-align: top;\n",
       "    }\n",
       "\n",
       "    .dataframe thead th {\n",
       "        text-align: right;\n",
       "    }\n",
       "</style>\n",
       "<table border=\"1\" class=\"dataframe\">\n",
       "  <thead>\n",
       "    <tr style=\"text-align: right;\">\n",
       "      <th></th>\n",
       "      <th>Unnamed: 0</th>\n",
       "      <th>carat</th>\n",
       "      <th>cut</th>\n",
       "      <th>color</th>\n",
       "      <th>clarity</th>\n",
       "      <th>depth</th>\n",
       "      <th>table</th>\n",
       "      <th>price</th>\n",
       "      <th>x</th>\n",
       "      <th>y</th>\n",
       "      <th>z</th>\n",
       "    </tr>\n",
       "  </thead>\n",
       "  <tbody>\n",
       "    <tr>\n",
       "      <th>0</th>\n",
       "      <td>1</td>\n",
       "      <td>0.23</td>\n",
       "      <td>Ideal</td>\n",
       "      <td>E</td>\n",
       "      <td>SI2</td>\n",
       "      <td>61.5</td>\n",
       "      <td>55.0</td>\n",
       "      <td>326</td>\n",
       "      <td>3.95</td>\n",
       "      <td>3.98</td>\n",
       "      <td>2.43</td>\n",
       "    </tr>\n",
       "    <tr>\n",
       "      <th>1</th>\n",
       "      <td>2</td>\n",
       "      <td>0.21</td>\n",
       "      <td>Premium</td>\n",
       "      <td>E</td>\n",
       "      <td>SI1</td>\n",
       "      <td>59.8</td>\n",
       "      <td>61.0</td>\n",
       "      <td>326</td>\n",
       "      <td>3.89</td>\n",
       "      <td>3.84</td>\n",
       "      <td>2.31</td>\n",
       "    </tr>\n",
       "    <tr>\n",
       "      <th>2</th>\n",
       "      <td>3</td>\n",
       "      <td>0.23</td>\n",
       "      <td>Good</td>\n",
       "      <td>E</td>\n",
       "      <td>VS1</td>\n",
       "      <td>56.9</td>\n",
       "      <td>65.0</td>\n",
       "      <td>327</td>\n",
       "      <td>4.05</td>\n",
       "      <td>4.07</td>\n",
       "      <td>2.31</td>\n",
       "    </tr>\n",
       "    <tr>\n",
       "      <th>3</th>\n",
       "      <td>4</td>\n",
       "      <td>0.29</td>\n",
       "      <td>Premium</td>\n",
       "      <td>I</td>\n",
       "      <td>VS2</td>\n",
       "      <td>62.4</td>\n",
       "      <td>58.0</td>\n",
       "      <td>334</td>\n",
       "      <td>4.20</td>\n",
       "      <td>4.23</td>\n",
       "      <td>2.63</td>\n",
       "    </tr>\n",
       "    <tr>\n",
       "      <th>4</th>\n",
       "      <td>5</td>\n",
       "      <td>0.31</td>\n",
       "      <td>Good</td>\n",
       "      <td>J</td>\n",
       "      <td>SI2</td>\n",
       "      <td>63.3</td>\n",
       "      <td>58.0</td>\n",
       "      <td>335</td>\n",
       "      <td>4.34</td>\n",
       "      <td>4.35</td>\n",
       "      <td>2.75</td>\n",
       "    </tr>\n",
       "  </tbody>\n",
       "</table>\n",
       "</div>"
      ],
      "text/plain": [
       "   Unnamed: 0  carat      cut color clarity  depth  table  price     x     y  \\\n",
       "0           1   0.23    Ideal     E     SI2   61.5   55.0    326  3.95  3.98   \n",
       "1           2   0.21  Premium     E     SI1   59.8   61.0    326  3.89  3.84   \n",
       "2           3   0.23     Good     E     VS1   56.9   65.0    327  4.05  4.07   \n",
       "3           4   0.29  Premium     I     VS2   62.4   58.0    334  4.20  4.23   \n",
       "4           5   0.31     Good     J     SI2   63.3   58.0    335  4.34  4.35   \n",
       "\n",
       "      z  \n",
       "0  2.43  \n",
       "1  2.31  \n",
       "2  2.31  \n",
       "3  2.63  \n",
       "4  2.75  "
      ]
     },
     "execution_count": 3,
     "metadata": {},
     "output_type": "execute_result"
    }
   ],
   "source": [
    "df.head()"
   ]
  },
  {
   "cell_type": "code",
   "execution_count": 4,
   "id": "0615ae4f",
   "metadata": {
    "scrolled": false
   },
   "outputs": [
    {
     "data": {
      "text/plain": [
       "Unnamed: 0    0\n",
       "carat         0\n",
       "cut           0\n",
       "color         0\n",
       "clarity       0\n",
       "depth         0\n",
       "table         0\n",
       "price         0\n",
       "x             0\n",
       "y             0\n",
       "z             0\n",
       "dtype: int64"
      ]
     },
     "execution_count": 4,
     "metadata": {},
     "output_type": "execute_result"
    }
   ],
   "source": [
    "df.isna().sum()"
   ]
  },
  {
   "cell_type": "code",
   "execution_count": 5,
   "id": "f0f20253",
   "metadata": {},
   "outputs": [
    {
     "data": {
      "text/html": [
       "<div>\n",
       "<style scoped>\n",
       "    .dataframe tbody tr th:only-of-type {\n",
       "        vertical-align: middle;\n",
       "    }\n",
       "\n",
       "    .dataframe tbody tr th {\n",
       "        vertical-align: top;\n",
       "    }\n",
       "\n",
       "    .dataframe thead th {\n",
       "        text-align: right;\n",
       "    }\n",
       "</style>\n",
       "<table border=\"1\" class=\"dataframe\">\n",
       "  <thead>\n",
       "    <tr style=\"text-align: right;\">\n",
       "      <th></th>\n",
       "      <th>Unnamed: 0</th>\n",
       "      <th>carat</th>\n",
       "      <th>cut</th>\n",
       "      <th>color</th>\n",
       "      <th>depth</th>\n",
       "      <th>table</th>\n",
       "      <th>price</th>\n",
       "      <th>x</th>\n",
       "      <th>y</th>\n",
       "      <th>z</th>\n",
       "    </tr>\n",
       "  </thead>\n",
       "  <tbody>\n",
       "    <tr>\n",
       "      <th>0</th>\n",
       "      <td>1</td>\n",
       "      <td>0.23</td>\n",
       "      <td>Ideal</td>\n",
       "      <td>E</td>\n",
       "      <td>61.5</td>\n",
       "      <td>55.0</td>\n",
       "      <td>326</td>\n",
       "      <td>3.95</td>\n",
       "      <td>3.98</td>\n",
       "      <td>2.43</td>\n",
       "    </tr>\n",
       "    <tr>\n",
       "      <th>1</th>\n",
       "      <td>2</td>\n",
       "      <td>0.21</td>\n",
       "      <td>Premium</td>\n",
       "      <td>E</td>\n",
       "      <td>59.8</td>\n",
       "      <td>61.0</td>\n",
       "      <td>326</td>\n",
       "      <td>3.89</td>\n",
       "      <td>3.84</td>\n",
       "      <td>2.31</td>\n",
       "    </tr>\n",
       "    <tr>\n",
       "      <th>2</th>\n",
       "      <td>3</td>\n",
       "      <td>0.23</td>\n",
       "      <td>Good</td>\n",
       "      <td>E</td>\n",
       "      <td>56.9</td>\n",
       "      <td>65.0</td>\n",
       "      <td>327</td>\n",
       "      <td>4.05</td>\n",
       "      <td>4.07</td>\n",
       "      <td>2.31</td>\n",
       "    </tr>\n",
       "    <tr>\n",
       "      <th>3</th>\n",
       "      <td>4</td>\n",
       "      <td>0.29</td>\n",
       "      <td>Premium</td>\n",
       "      <td>I</td>\n",
       "      <td>62.4</td>\n",
       "      <td>58.0</td>\n",
       "      <td>334</td>\n",
       "      <td>4.20</td>\n",
       "      <td>4.23</td>\n",
       "      <td>2.63</td>\n",
       "    </tr>\n",
       "    <tr>\n",
       "      <th>4</th>\n",
       "      <td>5</td>\n",
       "      <td>0.31</td>\n",
       "      <td>Good</td>\n",
       "      <td>J</td>\n",
       "      <td>63.3</td>\n",
       "      <td>58.0</td>\n",
       "      <td>335</td>\n",
       "      <td>4.34</td>\n",
       "      <td>4.35</td>\n",
       "      <td>2.75</td>\n",
       "    </tr>\n",
       "    <tr>\n",
       "      <th>...</th>\n",
       "      <td>...</td>\n",
       "      <td>...</td>\n",
       "      <td>...</td>\n",
       "      <td>...</td>\n",
       "      <td>...</td>\n",
       "      <td>...</td>\n",
       "      <td>...</td>\n",
       "      <td>...</td>\n",
       "      <td>...</td>\n",
       "      <td>...</td>\n",
       "    </tr>\n",
       "    <tr>\n",
       "      <th>53935</th>\n",
       "      <td>53936</td>\n",
       "      <td>0.72</td>\n",
       "      <td>Ideal</td>\n",
       "      <td>D</td>\n",
       "      <td>60.8</td>\n",
       "      <td>57.0</td>\n",
       "      <td>2757</td>\n",
       "      <td>5.75</td>\n",
       "      <td>5.76</td>\n",
       "      <td>3.50</td>\n",
       "    </tr>\n",
       "    <tr>\n",
       "      <th>53936</th>\n",
       "      <td>53937</td>\n",
       "      <td>0.72</td>\n",
       "      <td>Good</td>\n",
       "      <td>D</td>\n",
       "      <td>63.1</td>\n",
       "      <td>55.0</td>\n",
       "      <td>2757</td>\n",
       "      <td>5.69</td>\n",
       "      <td>5.75</td>\n",
       "      <td>3.61</td>\n",
       "    </tr>\n",
       "    <tr>\n",
       "      <th>53937</th>\n",
       "      <td>53938</td>\n",
       "      <td>0.70</td>\n",
       "      <td>Very Good</td>\n",
       "      <td>D</td>\n",
       "      <td>62.8</td>\n",
       "      <td>60.0</td>\n",
       "      <td>2757</td>\n",
       "      <td>5.66</td>\n",
       "      <td>5.68</td>\n",
       "      <td>3.56</td>\n",
       "    </tr>\n",
       "    <tr>\n",
       "      <th>53938</th>\n",
       "      <td>53939</td>\n",
       "      <td>0.86</td>\n",
       "      <td>Premium</td>\n",
       "      <td>H</td>\n",
       "      <td>61.0</td>\n",
       "      <td>58.0</td>\n",
       "      <td>2757</td>\n",
       "      <td>6.15</td>\n",
       "      <td>6.12</td>\n",
       "      <td>3.74</td>\n",
       "    </tr>\n",
       "    <tr>\n",
       "      <th>53939</th>\n",
       "      <td>53940</td>\n",
       "      <td>0.75</td>\n",
       "      <td>Ideal</td>\n",
       "      <td>D</td>\n",
       "      <td>62.2</td>\n",
       "      <td>55.0</td>\n",
       "      <td>2757</td>\n",
       "      <td>5.83</td>\n",
       "      <td>5.87</td>\n",
       "      <td>3.64</td>\n",
       "    </tr>\n",
       "  </tbody>\n",
       "</table>\n",
       "<p>53940 rows × 10 columns</p>\n",
       "</div>"
      ],
      "text/plain": [
       "       Unnamed: 0  carat        cut color  depth  table  price     x     y  \\\n",
       "0               1   0.23      Ideal     E   61.5   55.0    326  3.95  3.98   \n",
       "1               2   0.21    Premium     E   59.8   61.0    326  3.89  3.84   \n",
       "2               3   0.23       Good     E   56.9   65.0    327  4.05  4.07   \n",
       "3               4   0.29    Premium     I   62.4   58.0    334  4.20  4.23   \n",
       "4               5   0.31       Good     J   63.3   58.0    335  4.34  4.35   \n",
       "...           ...    ...        ...   ...    ...    ...    ...   ...   ...   \n",
       "53935       53936   0.72      Ideal     D   60.8   57.0   2757  5.75  5.76   \n",
       "53936       53937   0.72       Good     D   63.1   55.0   2757  5.69  5.75   \n",
       "53937       53938   0.70  Very Good     D   62.8   60.0   2757  5.66  5.68   \n",
       "53938       53939   0.86    Premium     H   61.0   58.0   2757  6.15  6.12   \n",
       "53939       53940   0.75      Ideal     D   62.2   55.0   2757  5.83  5.87   \n",
       "\n",
       "          z  \n",
       "0      2.43  \n",
       "1      2.31  \n",
       "2      2.31  \n",
       "3      2.63  \n",
       "4      2.75  \n",
       "...     ...  \n",
       "53935  3.50  \n",
       "53936  3.61  \n",
       "53937  3.56  \n",
       "53938  3.74  \n",
       "53939  3.64  \n",
       "\n",
       "[53940 rows x 10 columns]"
      ]
     },
     "execution_count": 5,
     "metadata": {},
     "output_type": "execute_result"
    }
   ],
   "source": [
    "df.drop(columns = \"clarity\")"
   ]
  },
  {
   "cell_type": "code",
   "execution_count": 6,
   "id": "bd22b3ce",
   "metadata": {},
   "outputs": [],
   "source": [
    "df = df.drop(columns = {\"color\",\"cut\",\"clarity\"})"
   ]
  },
  {
   "cell_type": "code",
   "execution_count": 7,
   "id": "7e8203a4",
   "metadata": {},
   "outputs": [
    {
     "data": {
      "text/html": [
       "<div>\n",
       "<style scoped>\n",
       "    .dataframe tbody tr th:only-of-type {\n",
       "        vertical-align: middle;\n",
       "    }\n",
       "\n",
       "    .dataframe tbody tr th {\n",
       "        vertical-align: top;\n",
       "    }\n",
       "\n",
       "    .dataframe thead th {\n",
       "        text-align: right;\n",
       "    }\n",
       "</style>\n",
       "<table border=\"1\" class=\"dataframe\">\n",
       "  <thead>\n",
       "    <tr style=\"text-align: right;\">\n",
       "      <th></th>\n",
       "      <th>Unnamed: 0</th>\n",
       "      <th>carat</th>\n",
       "      <th>depth</th>\n",
       "      <th>table</th>\n",
       "      <th>price</th>\n",
       "      <th>x</th>\n",
       "      <th>y</th>\n",
       "      <th>z</th>\n",
       "    </tr>\n",
       "  </thead>\n",
       "  <tbody>\n",
       "    <tr>\n",
       "      <th>0</th>\n",
       "      <td>1</td>\n",
       "      <td>0.23</td>\n",
       "      <td>61.5</td>\n",
       "      <td>55.0</td>\n",
       "      <td>326</td>\n",
       "      <td>3.95</td>\n",
       "      <td>3.98</td>\n",
       "      <td>2.43</td>\n",
       "    </tr>\n",
       "    <tr>\n",
       "      <th>1</th>\n",
       "      <td>2</td>\n",
       "      <td>0.21</td>\n",
       "      <td>59.8</td>\n",
       "      <td>61.0</td>\n",
       "      <td>326</td>\n",
       "      <td>3.89</td>\n",
       "      <td>3.84</td>\n",
       "      <td>2.31</td>\n",
       "    </tr>\n",
       "    <tr>\n",
       "      <th>2</th>\n",
       "      <td>3</td>\n",
       "      <td>0.23</td>\n",
       "      <td>56.9</td>\n",
       "      <td>65.0</td>\n",
       "      <td>327</td>\n",
       "      <td>4.05</td>\n",
       "      <td>4.07</td>\n",
       "      <td>2.31</td>\n",
       "    </tr>\n",
       "    <tr>\n",
       "      <th>3</th>\n",
       "      <td>4</td>\n",
       "      <td>0.29</td>\n",
       "      <td>62.4</td>\n",
       "      <td>58.0</td>\n",
       "      <td>334</td>\n",
       "      <td>4.20</td>\n",
       "      <td>4.23</td>\n",
       "      <td>2.63</td>\n",
       "    </tr>\n",
       "    <tr>\n",
       "      <th>4</th>\n",
       "      <td>5</td>\n",
       "      <td>0.31</td>\n",
       "      <td>63.3</td>\n",
       "      <td>58.0</td>\n",
       "      <td>335</td>\n",
       "      <td>4.34</td>\n",
       "      <td>4.35</td>\n",
       "      <td>2.75</td>\n",
       "    </tr>\n",
       "    <tr>\n",
       "      <th>...</th>\n",
       "      <td>...</td>\n",
       "      <td>...</td>\n",
       "      <td>...</td>\n",
       "      <td>...</td>\n",
       "      <td>...</td>\n",
       "      <td>...</td>\n",
       "      <td>...</td>\n",
       "      <td>...</td>\n",
       "    </tr>\n",
       "    <tr>\n",
       "      <th>53935</th>\n",
       "      <td>53936</td>\n",
       "      <td>0.72</td>\n",
       "      <td>60.8</td>\n",
       "      <td>57.0</td>\n",
       "      <td>2757</td>\n",
       "      <td>5.75</td>\n",
       "      <td>5.76</td>\n",
       "      <td>3.50</td>\n",
       "    </tr>\n",
       "    <tr>\n",
       "      <th>53936</th>\n",
       "      <td>53937</td>\n",
       "      <td>0.72</td>\n",
       "      <td>63.1</td>\n",
       "      <td>55.0</td>\n",
       "      <td>2757</td>\n",
       "      <td>5.69</td>\n",
       "      <td>5.75</td>\n",
       "      <td>3.61</td>\n",
       "    </tr>\n",
       "    <tr>\n",
       "      <th>53937</th>\n",
       "      <td>53938</td>\n",
       "      <td>0.70</td>\n",
       "      <td>62.8</td>\n",
       "      <td>60.0</td>\n",
       "      <td>2757</td>\n",
       "      <td>5.66</td>\n",
       "      <td>5.68</td>\n",
       "      <td>3.56</td>\n",
       "    </tr>\n",
       "    <tr>\n",
       "      <th>53938</th>\n",
       "      <td>53939</td>\n",
       "      <td>0.86</td>\n",
       "      <td>61.0</td>\n",
       "      <td>58.0</td>\n",
       "      <td>2757</td>\n",
       "      <td>6.15</td>\n",
       "      <td>6.12</td>\n",
       "      <td>3.74</td>\n",
       "    </tr>\n",
       "    <tr>\n",
       "      <th>53939</th>\n",
       "      <td>53940</td>\n",
       "      <td>0.75</td>\n",
       "      <td>62.2</td>\n",
       "      <td>55.0</td>\n",
       "      <td>2757</td>\n",
       "      <td>5.83</td>\n",
       "      <td>5.87</td>\n",
       "      <td>3.64</td>\n",
       "    </tr>\n",
       "  </tbody>\n",
       "</table>\n",
       "<p>53940 rows × 8 columns</p>\n",
       "</div>"
      ],
      "text/plain": [
       "       Unnamed: 0  carat  depth  table  price     x     y     z\n",
       "0               1   0.23   61.5   55.0    326  3.95  3.98  2.43\n",
       "1               2   0.21   59.8   61.0    326  3.89  3.84  2.31\n",
       "2               3   0.23   56.9   65.0    327  4.05  4.07  2.31\n",
       "3               4   0.29   62.4   58.0    334  4.20  4.23  2.63\n",
       "4               5   0.31   63.3   58.0    335  4.34  4.35  2.75\n",
       "...           ...    ...    ...    ...    ...   ...   ...   ...\n",
       "53935       53936   0.72   60.8   57.0   2757  5.75  5.76  3.50\n",
       "53936       53937   0.72   63.1   55.0   2757  5.69  5.75  3.61\n",
       "53937       53938   0.70   62.8   60.0   2757  5.66  5.68  3.56\n",
       "53938       53939   0.86   61.0   58.0   2757  6.15  6.12  3.74\n",
       "53939       53940   0.75   62.2   55.0   2757  5.83  5.87  3.64\n",
       "\n",
       "[53940 rows x 8 columns]"
      ]
     },
     "execution_count": 7,
     "metadata": {},
     "output_type": "execute_result"
    }
   ],
   "source": [
    "df"
   ]
  },
  {
   "cell_type": "code",
   "execution_count": 8,
   "id": "9bebd2f9",
   "metadata": {
    "scrolled": true
   },
   "outputs": [
    {
     "data": {
      "text/plain": [
       "<AxesSubplot:>"
      ]
     },
     "execution_count": 8,
     "metadata": {},
     "output_type": "execute_result"
    },
    {
     "data": {
      "image/png": "[encoded data removed]",
      "text/plain": [
       "<Figure size 432x288 with 1 Axes>"
      ]
     },
     "metadata": {
      "needs_background": "light"
     },
     "output_type": "display_data"
    }
   ],
   "source": [
    "import seaborn as sns\n",
    "sns.boxplot(data=df)"
   ]
  },
  {
   "cell_type": "code",
   "execution_count": 9,
   "id": "ab60f615",
   "metadata": {},
   "outputs": [],
   "source": [
    "for i in df:                  # i = column name \n",
    "    if df[i].dtypes in (\"float64\",\"int64\"): # df[i] = every column will select float & int column only\n",
    "        q1 = df[i].quantile(0.25)  # for 1 column compute q1\n",
    "        q3 = df[i].quantile(0.75)  # for 1 column compute q3\n",
    "        iqr = q3-q1  # for 1 column compute IQR\n",
    "        ul = q3 + 1.5*iqr # for 1 column compute UPPER LIMIT\n",
    "        ll = q1 - 1.5*iqr # for 1 column compute LOWER LIMIT \n",
    "        df[i].clip(lower=ll,upper=ul,inplace=True)"
   ]
  },
  {
   "cell_type": "code",
   "execution_count": 10,
   "id": "48783f16",
   "metadata": {
    "scrolled": true
   },
   "outputs": [
    {
     "data": {
      "text/plain": [
       "<AxesSubplot:>"
      ]
     },
     "execution_count": 10,
     "metadata": {},
     "output_type": "execute_result"
    },
    {
     "data": {
      "image/png": "[encoded data removed]",
      "text/plain": [
       "<Figure size 432x288 with 1 Axes>"
      ]
     },
     "metadata": {
      "needs_background": "light"
     },
     "output_type": "display_data"
    }
   ],
   "source": [
    "import seaborn as sns\n",
    "sns.boxplot(data=df)"
   ]
  },
  {
   "cell_type": "code",
   "execution_count": 11,
   "id": "0bf8cc9d",
   "metadata": {},
   "outputs": [],
   "source": [
    "X = df.drop('price', axis= 1)\n",
    "y = df[['price']]\n",
    "\n",
    "from sklearn.model_selection import train_test_split\n",
    "X_train, X_test, y_train, y_test = train_test_split(X, y, train_size = 0.7 ,random_state=134)"
   ]
  },
  {
   "cell_type": "code",
   "execution_count": 12,
   "id": "58d4192c",
   "metadata": {
    "scrolled": true
   },
   "outputs": [
    {
     "data": {
      "text/html": [
       "<div>\n",
       "<style scoped>\n",
       "    .dataframe tbody tr th:only-of-type {\n",
       "        vertical-align: middle;\n",
       "    }\n",
       "\n",
       "    .dataframe tbody tr th {\n",
       "        vertical-align: top;\n",
       "    }\n",
       "\n",
       "    .dataframe thead th {\n",
       "        text-align: right;\n",
       "    }\n",
       "</style>\n",
       "<table border=\"1\" class=\"dataframe\">\n",
       "  <thead>\n",
       "    <tr style=\"text-align: right;\">\n",
       "      <th></th>\n",
       "      <th>price</th>\n",
       "      <th>Unnamed: 0</th>\n",
       "      <th>carat</th>\n",
       "      <th>depth</th>\n",
       "      <th>table</th>\n",
       "      <th>x</th>\n",
       "      <th>y</th>\n",
       "      <th>z</th>\n",
       "    </tr>\n",
       "  </thead>\n",
       "  <tbody>\n",
       "    <tr>\n",
       "      <th>16493</th>\n",
       "      <td>6589.000</td>\n",
       "      <td>16494</td>\n",
       "      <td>1.11</td>\n",
       "      <td>63.00</td>\n",
       "      <td>56.0</td>\n",
       "      <td>6.62</td>\n",
       "      <td>6.49</td>\n",
       "      <td>4.15</td>\n",
       "    </tr>\n",
       "    <tr>\n",
       "      <th>35965</th>\n",
       "      <td>476.000</td>\n",
       "      <td>35966</td>\n",
       "      <td>0.25</td>\n",
       "      <td>64.75</td>\n",
       "      <td>58.0</td>\n",
       "      <td>3.95</td>\n",
       "      <td>3.97</td>\n",
       "      <td>2.57</td>\n",
       "    </tr>\n",
       "    <tr>\n",
       "      <th>26985</th>\n",
       "      <td>11885.625</td>\n",
       "      <td>26986</td>\n",
       "      <td>2.00</td>\n",
       "      <td>60.10</td>\n",
       "      <td>61.0</td>\n",
       "      <td>8.14</td>\n",
       "      <td>8.06</td>\n",
       "      <td>4.87</td>\n",
       "    </tr>\n",
       "    <tr>\n",
       "      <th>11448</th>\n",
       "      <td>5006.000</td>\n",
       "      <td>11449</td>\n",
       "      <td>1.01</td>\n",
       "      <td>61.30</td>\n",
       "      <td>59.0</td>\n",
       "      <td>6.48</td>\n",
       "      <td>6.44</td>\n",
       "      <td>3.96</td>\n",
       "    </tr>\n",
       "    <tr>\n",
       "      <th>34758</th>\n",
       "      <td>876.000</td>\n",
       "      <td>34759</td>\n",
       "      <td>0.41</td>\n",
       "      <td>61.40</td>\n",
       "      <td>60.0</td>\n",
       "      <td>4.78</td>\n",
       "      <td>4.73</td>\n",
       "      <td>2.92</td>\n",
       "    </tr>\n",
       "  </tbody>\n",
       "</table>\n",
       "</div>"
      ],
      "text/plain": [
       "           price  Unnamed: 0  carat  depth  table     x     y     z\n",
       "16493   6589.000       16494   1.11  63.00   56.0  6.62  6.49  4.15\n",
       "35965    476.000       35966   0.25  64.75   58.0  3.95  3.97  2.57\n",
       "26985  11885.625       26986   2.00  60.10   61.0  8.14  8.06  4.87\n",
       "11448   5006.000       11449   1.01  61.30   59.0  6.48  6.44  3.96\n",
       "34758    876.000       34759   0.41  61.40   60.0  4.78  4.73  2.92"
      ]
     },
     "execution_count": 12,
     "metadata": {},
     "output_type": "execute_result"
    }
   ],
   "source": [
    "train = pd.concat([y_train, X_train], axis=1)\n",
    "train.head()"
   ]
  },
  {
   "cell_type": "code",
   "execution_count": 13,
   "id": "472983bd",
   "metadata": {
    "scrolled": true
   },
   "outputs": [
    {
     "data": {
      "text/html": [
       "<style type=\"text/css\">\n",
       "#T_5df48_row0_col0, #T_5df48_row0_col2, #T_5df48_row0_col5, #T_5df48_row0_col6, #T_5df48_row0_col7, #T_5df48_row1_col1, #T_5df48_row2_col0, #T_5df48_row2_col2, #T_5df48_row2_col5, #T_5df48_row2_col6, #T_5df48_row2_col7, #T_5df48_row3_col3, #T_5df48_row4_col4, #T_5df48_row5_col0, #T_5df48_row5_col2, #T_5df48_row5_col5, #T_5df48_row5_col6, #T_5df48_row5_col7, #T_5df48_row6_col0, #T_5df48_row6_col2, #T_5df48_row6_col5, #T_5df48_row6_col6, #T_5df48_row6_col7, #T_5df48_row7_col0, #T_5df48_row7_col2, #T_5df48_row7_col5, #T_5df48_row7_col6, #T_5df48_row7_col7 {\n",
       "  background-color: yellow;\n",
       "}\n",
       "</style>\n",
       "<table id=\"T_5df48\">\n",
       "  <thead>\n",
       "    <tr>\n",
       "      <th class=\"blank level0\" >&nbsp;</th>\n",
       "      <th id=\"T_5df48_level0_col0\" class=\"col_heading level0 col0\" >price</th>\n",
       "      <th id=\"T_5df48_level0_col1\" class=\"col_heading level0 col1\" >Unnamed: 0</th>\n",
       "      <th id=\"T_5df48_level0_col2\" class=\"col_heading level0 col2\" >carat</th>\n",
       "      <th id=\"T_5df48_level0_col3\" class=\"col_heading level0 col3\" >depth</th>\n",
       "      <th id=\"T_5df48_level0_col4\" class=\"col_heading level0 col4\" >table</th>\n",
       "      <th id=\"T_5df48_level0_col5\" class=\"col_heading level0 col5\" >x</th>\n",
       "      <th id=\"T_5df48_level0_col6\" class=\"col_heading level0 col6\" >y</th>\n",
       "      <th id=\"T_5df48_level0_col7\" class=\"col_heading level0 col7\" >z</th>\n",
       "    </tr>\n",
       "  </thead>\n",
       "  <tbody>\n",
       "    <tr>\n",
       "      <th id=\"T_5df48_level0_row0\" class=\"row_heading level0 row0\" >price</th>\n",
       "      <td id=\"T_5df48_row0_col0\" class=\"data row0 col0\" >1.000000</td>\n",
       "      <td id=\"T_5df48_row0_col1\" class=\"data row0 col1\" >-0.356236</td>\n",
       "      <td id=\"T_5df48_row0_col2\" class=\"data row0 col2\" >0.936532</td>\n",
       "      <td id=\"T_5df48_row0_col3\" class=\"data row0 col3\" >-0.009887</td>\n",
       "      <td id=\"T_5df48_row0_col4\" class=\"data row0 col4\" >0.137016</td>\n",
       "      <td id=\"T_5df48_row0_col5\" class=\"data row0 col5\" >0.911838</td>\n",
       "      <td id=\"T_5df48_row0_col6\" class=\"data row0 col6\" >0.913376</td>\n",
       "      <td id=\"T_5df48_row0_col7\" class=\"data row0 col7\" >0.904322</td>\n",
       "    </tr>\n",
       "    <tr>\n",
       "      <th id=\"T_5df48_level0_row1\" class=\"row_heading level0 row1\" >Unnamed: 0</th>\n",
       "      <td id=\"T_5df48_row1_col0\" class=\"data row1 col0\" >-0.356236</td>\n",
       "      <td id=\"T_5df48_row1_col1\" class=\"data row1 col1\" >1.000000</td>\n",
       "      <td id=\"T_5df48_row1_col2\" class=\"data row1 col2\" >-0.392959</td>\n",
       "      <td id=\"T_5df48_row1_col3\" class=\"data row1 col3\" >-0.036696</td>\n",
       "      <td id=\"T_5df48_row1_col4\" class=\"data row1 col4\" >-0.103218</td>\n",
       "      <td id=\"T_5df48_row1_col5\" class=\"data row1 col5\" >-0.407183</td>\n",
       "      <td id=\"T_5df48_row1_col6\" class=\"data row1 col6\" >-0.407713</td>\n",
       "      <td id=\"T_5df48_row1_col7\" class=\"data row1 col7\" >-0.408855</td>\n",
       "    </tr>\n",
       "    <tr>\n",
       "      <th id=\"T_5df48_level0_row2\" class=\"row_heading level0 row2\" >carat</th>\n",
       "      <td id=\"T_5df48_row2_col0\" class=\"data row2 col0\" >0.936532</td>\n",
       "      <td id=\"T_5df48_row2_col1\" class=\"data row2 col1\" >-0.392959</td>\n",
       "      <td id=\"T_5df48_row2_col2\" class=\"data row2 col2\" >1.000000</td>\n",
       "      <td id=\"T_5df48_row2_col3\" class=\"data row2 col3\" >0.021476</td>\n",
       "      <td id=\"T_5df48_row2_col4\" class=\"data row2 col4\" >0.186099</td>\n",
       "      <td id=\"T_5df48_row2_col5\" class=\"data row2 col5\" >0.981981</td>\n",
       "      <td id=\"T_5df48_row2_col6\" class=\"data row2 col6\" >0.981258</td>\n",
       "      <td id=\"T_5df48_row2_col7\" class=\"data row2 col7\" >0.976973</td>\n",
       "    </tr>\n",
       "    <tr>\n",
       "      <th id=\"T_5df48_level0_row3\" class=\"row_heading level0 row3\" >depth</th>\n",
       "      <td id=\"T_5df48_row3_col0\" class=\"data row3 col0\" >-0.009887</td>\n",
       "      <td id=\"T_5df48_row3_col1\" class=\"data row3 col1\" >-0.036696</td>\n",
       "      <td id=\"T_5df48_row3_col2\" class=\"data row3 col2\" >0.021476</td>\n",
       "      <td id=\"T_5df48_row3_col3\" class=\"data row3 col3\" >1.000000</td>\n",
       "      <td id=\"T_5df48_row3_col4\" class=\"data row3 col4\" >-0.298345</td>\n",
       "      <td id=\"T_5df48_row3_col5\" class=\"data row3 col5\" >-0.028815</td>\n",
       "      <td id=\"T_5df48_row3_col6\" class=\"data row3 col6\" >-0.031346</td>\n",
       "      <td id=\"T_5df48_row3_col7\" class=\"data row3 col7\" >0.089709</td>\n",
       "    </tr>\n",
       "    <tr>\n",
       "      <th id=\"T_5df48_level0_row4\" class=\"row_heading level0 row4\" >table</th>\n",
       "      <td id=\"T_5df48_row4_col0\" class=\"data row4 col0\" >0.137016</td>\n",
       "      <td id=\"T_5df48_row4_col1\" class=\"data row4 col1\" >-0.103218</td>\n",
       "      <td id=\"T_5df48_row4_col2\" class=\"data row4 col2\" >0.186099</td>\n",
       "      <td id=\"T_5df48_row4_col3\" class=\"data row4 col3\" >-0.298345</td>\n",
       "      <td id=\"T_5df48_row4_col4\" class=\"data row4 col4\" >1.000000</td>\n",
       "      <td id=\"T_5df48_row4_col5\" class=\"data row4 col5\" >0.196409</td>\n",
       "      <td id=\"T_5df48_row4_col6\" class=\"data row4 col6\" >0.190229</td>\n",
       "      <td id=\"T_5df48_row4_col7\" class=\"data row4 col7\" >0.155836</td>\n",
       "    </tr>\n",
       "    <tr>\n",
       "      <th id=\"T_5df48_level0_row5\" class=\"row_heading level0 row5\" >x</th>\n",
       "      <td id=\"T_5df48_row5_col0\" class=\"data row5 col0\" >0.911838</td>\n",
       "      <td id=\"T_5df48_row5_col1\" class=\"data row5 col1\" >-0.407183</td>\n",
       "      <td id=\"T_5df48_row5_col2\" class=\"data row5 col2\" >0.981981</td>\n",
       "      <td id=\"T_5df48_row5_col3\" class=\"data row5 col3\" >-0.028815</td>\n",
       "      <td id=\"T_5df48_row5_col4\" class=\"data row5 col4\" >0.196409</td>\n",
       "      <td id=\"T_5df48_row5_col5\" class=\"data row5 col5\" >1.000000</td>\n",
       "      <td id=\"T_5df48_row5_col6\" class=\"data row5 col6\" >0.998178</td>\n",
       "      <td id=\"T_5df48_row5_col7\" class=\"data row5 col7\" >0.987662</td>\n",
       "    </tr>\n",
       "    <tr>\n",
       "      <th id=\"T_5df48_level0_row6\" class=\"row_heading level0 row6\" >y</th>\n",
       "      <td id=\"T_5df48_row6_col0\" class=\"data row6 col0\" >0.913376</td>\n",
       "      <td id=\"T_5df48_row6_col1\" class=\"data row6 col1\" >-0.407713</td>\n",
       "      <td id=\"T_5df48_row6_col2\" class=\"data row6 col2\" >0.981258</td>\n",
       "      <td id=\"T_5df48_row6_col3\" class=\"data row6 col3\" >-0.031346</td>\n",
       "      <td id=\"T_5df48_row6_col4\" class=\"data row6 col4\" >0.190229</td>\n",
       "      <td id=\"T_5df48_row6_col5\" class=\"data row6 col5\" >0.998178</td>\n",
       "      <td id=\"T_5df48_row6_col6\" class=\"data row6 col6\" >1.000000</td>\n",
       "      <td id=\"T_5df48_row6_col7\" class=\"data row6 col7\" >0.987303</td>\n",
       "    </tr>\n",
       "    <tr>\n",
       "      <th id=\"T_5df48_level0_row7\" class=\"row_heading level0 row7\" >z</th>\n",
       "      <td id=\"T_5df48_row7_col0\" class=\"data row7 col0\" >0.904322</td>\n",
       "      <td id=\"T_5df48_row7_col1\" class=\"data row7 col1\" >-0.408855</td>\n",
       "      <td id=\"T_5df48_row7_col2\" class=\"data row7 col2\" >0.976973</td>\n",
       "      <td id=\"T_5df48_row7_col3\" class=\"data row7 col3\" >0.089709</td>\n",
       "      <td id=\"T_5df48_row7_col4\" class=\"data row7 col4\" >0.155836</td>\n",
       "      <td id=\"T_5df48_row7_col5\" class=\"data row7 col5\" >0.987662</td>\n",
       "      <td id=\"T_5df48_row7_col6\" class=\"data row7 col6\" >0.987303</td>\n",
       "      <td id=\"T_5df48_row7_col7\" class=\"data row7 col7\" >1.000000</td>\n",
       "    </tr>\n",
       "  </tbody>\n",
       "</table>\n"
      ],
      "text/plain": [
       "<pandas.io.formats.style.Styler at 0x7fa5a8567e80>"
      ]
     },
     "execution_count": 13,
     "metadata": {},
     "output_type": "execute_result"
    }
   ],
   "source": [
    "Correlation = train.corr()\n",
    "Correlation.style.applymap(lambda x: 'background-color : yellow' if x > 0.7 else '')"
   ]
  },
  {
   "cell_type": "code",
   "execution_count": null,
   "id": "e1e39a41",
   "metadata": {
    "scrolled": true
   },
   "outputs": [],
   "source": []
  },
  {
   "cell_type": "code",
   "execution_count": 14,
   "id": "6fbc238b",
   "metadata": {},
   "outputs": [
    {
     "data": {
      "text/plain": [
       "SequentialFeatureSelector(estimator=LinearRegression(), n_features_to_select=5,\n",
       "                          scoring='r2')"
      ]
     },
     "execution_count": 14,
     "metadata": {},
     "output_type": "execute_result"
    }
   ],
   "source": [
    "from sklearn.linear_model import LinearRegression\n",
    "from sklearn.feature_selection import SequentialFeatureSelector as sfs\n",
    "\n",
    "lreg = LinearRegression()\n",
    "Model = sfs(lreg, n_features_to_select = 5, direction='forward', scoring='r2')\n",
    "Model.fit(X_train,y_train)"
   ]
  },
  {
   "cell_type": "code",
   "execution_count": 15,
   "id": "0c930272",
   "metadata": {
    "scrolled": true
   },
   "outputs": [
    {
     "data": {
      "text/plain": [
       "array(['Unnamed: 0', 'carat', 'depth', 'table', 'x', 'y', 'z'],\n",
       "      dtype=object)"
      ]
     },
     "execution_count": 15,
     "metadata": {},
     "output_type": "execute_result"
    }
   ],
   "source": [
    "Model.feature_names_in_"
   ]
  },
  {
   "cell_type": "code",
   "execution_count": 16,
   "id": "a248eff6",
   "metadata": {},
   "outputs": [
    {
     "data": {
      "text/plain": [
       "array(['carat', 'depth', 'table', 'x', 'z'], dtype=object)"
      ]
     },
     "execution_count": 16,
     "metadata": {},
     "output_type": "execute_result"
    }
   ],
   "source": [
    "Model.get_feature_names_out()"
   ]
  },
  {
   "cell_type": "code",
   "execution_count": 17,
   "id": "54be420e",
   "metadata": {},
   "outputs": [],
   "source": [
    "from sklearn.linear_model import LinearRegression"
   ]
  },
  {
   "cell_type": "code",
   "execution_count": 18,
   "id": "38d746f4",
   "metadata": {
    "scrolled": true
   },
   "outputs": [
    {
     "data": {
      "text/html": [
       "<div>\n",
       "<style scoped>\n",
       "    .dataframe tbody tr th:only-of-type {\n",
       "        vertical-align: middle;\n",
       "    }\n",
       "\n",
       "    .dataframe tbody tr th {\n",
       "        vertical-align: top;\n",
       "    }\n",
       "\n",
       "    .dataframe thead th {\n",
       "        text-align: right;\n",
       "    }\n",
       "</style>\n",
       "<table border=\"1\" class=\"dataframe\">\n",
       "  <thead>\n",
       "    <tr style=\"text-align: right;\">\n",
       "      <th></th>\n",
       "      <th>carat</th>\n",
       "      <th>depth</th>\n",
       "      <th>table</th>\n",
       "      <th>x</th>\n",
       "      <th>z</th>\n",
       "    </tr>\n",
       "  </thead>\n",
       "  <tbody>\n",
       "    <tr>\n",
       "      <th>16493</th>\n",
       "      <td>1.11</td>\n",
       "      <td>63.00</td>\n",
       "      <td>56.0</td>\n",
       "      <td>6.62</td>\n",
       "      <td>4.15</td>\n",
       "    </tr>\n",
       "    <tr>\n",
       "      <th>35965</th>\n",
       "      <td>0.25</td>\n",
       "      <td>64.75</td>\n",
       "      <td>58.0</td>\n",
       "      <td>3.95</td>\n",
       "      <td>2.57</td>\n",
       "    </tr>\n",
       "    <tr>\n",
       "      <th>26985</th>\n",
       "      <td>2.00</td>\n",
       "      <td>60.10</td>\n",
       "      <td>61.0</td>\n",
       "      <td>8.14</td>\n",
       "      <td>4.87</td>\n",
       "    </tr>\n",
       "    <tr>\n",
       "      <th>11448</th>\n",
       "      <td>1.01</td>\n",
       "      <td>61.30</td>\n",
       "      <td>59.0</td>\n",
       "      <td>6.48</td>\n",
       "      <td>3.96</td>\n",
       "    </tr>\n",
       "    <tr>\n",
       "      <th>34758</th>\n",
       "      <td>0.41</td>\n",
       "      <td>61.40</td>\n",
       "      <td>60.0</td>\n",
       "      <td>4.78</td>\n",
       "      <td>2.92</td>\n",
       "    </tr>\n",
       "  </tbody>\n",
       "</table>\n",
       "</div>"
      ],
      "text/plain": [
       "       carat  depth  table     x     z\n",
       "16493   1.11  63.00   56.0  6.62  4.15\n",
       "35965   0.25  64.75   58.0  3.95  2.57\n",
       "26985   2.00  60.10   61.0  8.14  4.87\n",
       "11448   1.01  61.30   59.0  6.48  3.96\n",
       "34758   0.41  61.40   60.0  4.78  2.92"
      ]
     },
     "execution_count": 18,
     "metadata": {},
     "output_type": "execute_result"
    }
   ],
   "source": [
    "X_train = X_train.loc[:,['carat', 'depth', 'table', 'x', 'z']]\n",
    "X_train.head()"
   ]
  },
  {
   "cell_type": "code",
   "execution_count": 19,
   "id": "876a0648",
   "metadata": {
    "scrolled": true
   },
   "outputs": [
    {
     "data": {
      "text/html": [
       "<div>\n",
       "<style scoped>\n",
       "    .dataframe tbody tr th:only-of-type {\n",
       "        vertical-align: middle;\n",
       "    }\n",
       "\n",
       "    .dataframe tbody tr th {\n",
       "        vertical-align: top;\n",
       "    }\n",
       "\n",
       "    .dataframe thead th {\n",
       "        text-align: right;\n",
       "    }\n",
       "</style>\n",
       "<table border=\"1\" class=\"dataframe\">\n",
       "  <thead>\n",
       "    <tr style=\"text-align: right;\">\n",
       "      <th></th>\n",
       "      <th>carat</th>\n",
       "      <th>depth</th>\n",
       "      <th>table</th>\n",
       "      <th>x</th>\n",
       "      <th>z</th>\n",
       "      <th>price</th>\n",
       "    </tr>\n",
       "  </thead>\n",
       "  <tbody>\n",
       "    <tr>\n",
       "      <th>16493</th>\n",
       "      <td>1.11</td>\n",
       "      <td>63.00</td>\n",
       "      <td>56.0</td>\n",
       "      <td>6.62</td>\n",
       "      <td>4.15</td>\n",
       "      <td>6589.000</td>\n",
       "    </tr>\n",
       "    <tr>\n",
       "      <th>35965</th>\n",
       "      <td>0.25</td>\n",
       "      <td>64.75</td>\n",
       "      <td>58.0</td>\n",
       "      <td>3.95</td>\n",
       "      <td>2.57</td>\n",
       "      <td>476.000</td>\n",
       "    </tr>\n",
       "    <tr>\n",
       "      <th>26985</th>\n",
       "      <td>2.00</td>\n",
       "      <td>60.10</td>\n",
       "      <td>61.0</td>\n",
       "      <td>8.14</td>\n",
       "      <td>4.87</td>\n",
       "      <td>11885.625</td>\n",
       "    </tr>\n",
       "    <tr>\n",
       "      <th>11448</th>\n",
       "      <td>1.01</td>\n",
       "      <td>61.30</td>\n",
       "      <td>59.0</td>\n",
       "      <td>6.48</td>\n",
       "      <td>3.96</td>\n",
       "      <td>5006.000</td>\n",
       "    </tr>\n",
       "    <tr>\n",
       "      <th>34758</th>\n",
       "      <td>0.41</td>\n",
       "      <td>61.40</td>\n",
       "      <td>60.0</td>\n",
       "      <td>4.78</td>\n",
       "      <td>2.92</td>\n",
       "      <td>876.000</td>\n",
       "    </tr>\n",
       "  </tbody>\n",
       "</table>\n",
       "</div>"
      ],
      "text/plain": [
       "       carat  depth  table     x     z      price\n",
       "16493   1.11  63.00   56.0  6.62  4.15   6589.000\n",
       "35965   0.25  64.75   58.0  3.95  2.57    476.000\n",
       "26985   2.00  60.10   61.0  8.14  4.87  11885.625\n",
       "11448   1.01  61.30   59.0  6.48  3.96   5006.000\n",
       "34758   0.41  61.40   60.0  4.78  2.92    876.000"
      ]
     },
     "execution_count": 19,
     "metadata": {},
     "output_type": "execute_result"
    }
   ],
   "source": [
    "train = pd.concat([X_train,y_train], axis=1)\n",
    "train.head()"
   ]
  },
  {
   "cell_type": "code",
   "execution_count": 20,
   "id": "5e566c0a",
   "metadata": {
    "scrolled": true
   },
   "outputs": [
    {
     "data": {
      "text/plain": [
       "LinearRegression()"
      ]
     },
     "execution_count": 20,
     "metadata": {},
     "output_type": "execute_result"
    }
   ],
   "source": [
    "Model3 = LinearRegression()\n",
    "Model3.fit(X_train,y_train)"
   ]
  },
  {
   "cell_type": "code",
   "execution_count": 21,
   "id": "3a142325",
   "metadata": {},
   "outputs": [
    {
     "data": {
      "text/plain": [
       "array([16578.574])"
      ]
     },
     "execution_count": 21,
     "metadata": {},
     "output_type": "execute_result"
    }
   ],
   "source": [
    "np.round(Model3.intercept_,3)"
   ]
  },
  {
   "cell_type": "code",
   "execution_count": 22,
   "id": "45d0d242",
   "metadata": {
    "scrolled": true
   },
   "outputs": [
    {
     "data": {
      "text/plain": [
       "array([[9221.3805, -166.726 ,  -85.1755, -898.3081,   51.7266]])"
      ]
     },
     "execution_count": 22,
     "metadata": {},
     "output_type": "execute_result"
    }
   ],
   "source": [
    "np.round(Model3.coef_,4)"
   ]
  },
  {
   "cell_type": "code",
   "execution_count": 23,
   "id": "c95b28fc",
   "metadata": {},
   "outputs": [
    {
     "data": {
      "text/plain": [
       "array(['carat', 'depth', 'table', 'x', 'z'], dtype=object)"
      ]
     },
     "execution_count": 23,
     "metadata": {},
     "output_type": "execute_result"
    }
   ],
   "source": [
    "Model3.feature_names_in_"
   ]
  },
  {
   "cell_type": "code",
   "execution_count": null,
   "id": "4ce23557",
   "metadata": {},
   "outputs": [],
   "source": []
  },
  {
   "cell_type": "code",
   "execution_count": 25,
   "id": "5d7012cc",
   "metadata": {
    "scrolled": true
   },
   "outputs": [
    {
     "data": {
      "text/html": [
       "<div>\n",
       "<style scoped>\n",
       "    .dataframe tbody tr th:only-of-type {\n",
       "        vertical-align: middle;\n",
       "    }\n",
       "\n",
       "    .dataframe tbody tr th {\n",
       "        vertical-align: top;\n",
       "    }\n",
       "\n",
       "    .dataframe thead th {\n",
       "        text-align: right;\n",
       "    }\n",
       "</style>\n",
       "<table border=\"1\" class=\"dataframe\">\n",
       "  <thead>\n",
       "    <tr style=\"text-align: right;\">\n",
       "      <th></th>\n",
       "      <th>carat</th>\n",
       "      <th>depth</th>\n",
       "      <th>table</th>\n",
       "      <th>x</th>\n",
       "      <th>z</th>\n",
       "      <th>price</th>\n",
       "      <th>fitted_value</th>\n",
       "      <th>Residual</th>\n",
       "    </tr>\n",
       "  </thead>\n",
       "  <tbody>\n",
       "    <tr>\n",
       "      <th>16493</th>\n",
       "      <td>1.11</td>\n",
       "      <td>63.00</td>\n",
       "      <td>56.0</td>\n",
       "      <td>6.62</td>\n",
       "      <td>4.15</td>\n",
       "      <td>6589.000</td>\n",
       "      <td>5808.61</td>\n",
       "      <td>780.39</td>\n",
       "    </tr>\n",
       "    <tr>\n",
       "      <th>35965</th>\n",
       "      <td>0.25</td>\n",
       "      <td>64.75</td>\n",
       "      <td>58.0</td>\n",
       "      <td>3.95</td>\n",
       "      <td>2.57</td>\n",
       "      <td>476.000</td>\n",
       "      <td>-267.15</td>\n",
       "      <td>743.15</td>\n",
       "    </tr>\n",
       "    <tr>\n",
       "      <th>26985</th>\n",
       "      <td>2.00</td>\n",
       "      <td>60.10</td>\n",
       "      <td>61.0</td>\n",
       "      <td>8.14</td>\n",
       "      <td>4.87</td>\n",
       "      <td>11885.625</td>\n",
       "      <td>12745.08</td>\n",
       "      <td>-859.46</td>\n",
       "    </tr>\n",
       "    <tr>\n",
       "      <th>11448</th>\n",
       "      <td>1.01</td>\n",
       "      <td>61.30</td>\n",
       "      <td>59.0</td>\n",
       "      <td>6.48</td>\n",
       "      <td>3.96</td>\n",
       "      <td>5006.000</td>\n",
       "      <td>5030.31</td>\n",
       "      <td>-24.31</td>\n",
       "    </tr>\n",
       "    <tr>\n",
       "      <th>34758</th>\n",
       "      <td>0.41</td>\n",
       "      <td>61.40</td>\n",
       "      <td>60.0</td>\n",
       "      <td>4.78</td>\n",
       "      <td>2.92</td>\n",
       "      <td>876.000</td>\n",
       "      <td>868.96</td>\n",
       "      <td>7.04</td>\n",
       "    </tr>\n",
       "  </tbody>\n",
       "</table>\n",
       "</div>"
      ],
      "text/plain": [
       "       carat  depth  table     x     z      price  fitted_value  Residual\n",
       "16493   1.11  63.00   56.0  6.62  4.15   6589.000       5808.61    780.39\n",
       "35965   0.25  64.75   58.0  3.95  2.57    476.000       -267.15    743.15\n",
       "26985   2.00  60.10   61.0  8.14  4.87  11885.625      12745.08   -859.46\n",
       "11448   1.01  61.30   59.0  6.48  3.96   5006.000       5030.31    -24.31\n",
       "34758   0.41  61.40   60.0  4.78  2.92    876.000        868.96      7.04"
      ]
     },
     "execution_count": 25,
     "metadata": {},
     "output_type": "execute_result"
    }
   ],
   "source": [
    "import numpy as np\n",
    "train['fitted_value'] = np.round(Model3.predict(X_train),2)\n",
    "train['Residual'] = np.round(train.price - train.fitted_value,2)\n",
    "train.head()"
   ]
  },
  {
   "cell_type": "code",
   "execution_count": 27,
   "id": "93a7401c",
   "metadata": {},
   "outputs": [
    {
     "name": "stdout",
     "output_type": "stream",
     "text": [
      "R-Squared score for model Performance on Train :  88.0\n"
     ]
    }
   ],
   "source": [
    "from sklearn.metrics import r2_score\n",
    "r2 = r2_score(train.price,train.fitted_value)\n",
    "print('R-Squared score for model Performance on Train : ', np.round(r2,2)*100)"
   ]
  },
  {
   "cell_type": "code",
   "execution_count": 29,
   "id": "f82a2e25",
   "metadata": {},
   "outputs": [
    {
     "data": {
      "image/png": "[encoded data removed]",
      "text/plain": [
       "<Figure size 432x288 with 1 Axes>"
      ]
     },
     "metadata": {
      "needs_background": "light"
     },
     "output_type": "display_data"
    }
   ],
   "source": [
    "import statsmodels.api as sm\n",
    "from matplotlib import pyplot as plt\n",
    "\n",
    "fig = sm.qqplot(train['Residual'], fit=True, line='s') # s indicate standardized line\n",
    "plt.show()"
   ]
  },
  {
   "cell_type": "code",
   "execution_count": 31,
   "id": "932384c7",
   "metadata": {},
   "outputs": [
    {
     "data": {
      "text/html": [
       "<div>\n",
       "<style scoped>\n",
       "    .dataframe tbody tr th:only-of-type {\n",
       "        vertical-align: middle;\n",
       "    }\n",
       "\n",
       "    .dataframe tbody tr th {\n",
       "        vertical-align: top;\n",
       "    }\n",
       "\n",
       "    .dataframe thead th {\n",
       "        text-align: right;\n",
       "    }\n",
       "</style>\n",
       "<table border=\"1\" class=\"dataframe\">\n",
       "  <thead>\n",
       "    <tr style=\"text-align: right;\">\n",
       "      <th></th>\n",
       "      <th>carat</th>\n",
       "      <th>depth</th>\n",
       "      <th>table</th>\n",
       "      <th>x</th>\n",
       "      <th>z</th>\n",
       "    </tr>\n",
       "  </thead>\n",
       "  <tbody>\n",
       "    <tr>\n",
       "      <th>20061</th>\n",
       "      <td>0.31</td>\n",
       "      <td>63.0</td>\n",
       "      <td>57.0</td>\n",
       "      <td>4.28</td>\n",
       "      <td>2.71</td>\n",
       "    </tr>\n",
       "    <tr>\n",
       "      <th>30051</th>\n",
       "      <td>0.41</td>\n",
       "      <td>59.1</td>\n",
       "      <td>58.0</td>\n",
       "      <td>4.83</td>\n",
       "      <td>2.87</td>\n",
       "    </tr>\n",
       "    <tr>\n",
       "      <th>15257</th>\n",
       "      <td>1.01</td>\n",
       "      <td>62.7</td>\n",
       "      <td>60.0</td>\n",
       "      <td>6.27</td>\n",
       "      <td>3.95</td>\n",
       "    </tr>\n",
       "    <tr>\n",
       "      <th>34649</th>\n",
       "      <td>0.31</td>\n",
       "      <td>62.0</td>\n",
       "      <td>55.0</td>\n",
       "      <td>4.37</td>\n",
       "      <td>2.70</td>\n",
       "    </tr>\n",
       "    <tr>\n",
       "      <th>34453</th>\n",
       "      <td>0.32</td>\n",
       "      <td>62.2</td>\n",
       "      <td>57.0</td>\n",
       "      <td>4.37</td>\n",
       "      <td>2.71</td>\n",
       "    </tr>\n",
       "  </tbody>\n",
       "</table>\n",
       "</div>"
      ],
      "text/plain": [
       "       carat  depth  table     x     z\n",
       "20061   0.31   63.0   57.0  4.28  2.71\n",
       "30051   0.41   59.1   58.0  4.83  2.87\n",
       "15257   1.01   62.7   60.0  6.27  3.95\n",
       "34649   0.31   62.0   55.0  4.37  2.70\n",
       "34453   0.32   62.2   57.0  4.37  2.71"
      ]
     },
     "execution_count": 31,
     "metadata": {},
     "output_type": "execute_result"
    }
   ],
   "source": [
    "X_test = X_test.loc[:,['carat', 'depth', 'table', 'x', 'z']]\n",
    "X_test.head()"
   ]
  },
  {
   "cell_type": "code",
   "execution_count": 32,
   "id": "d2105037",
   "metadata": {},
   "outputs": [
    {
     "data": {
      "text/html": [
       "<div>\n",
       "<style scoped>\n",
       "    .dataframe tbody tr th:only-of-type {\n",
       "        vertical-align: middle;\n",
       "    }\n",
       "\n",
       "    .dataframe tbody tr th {\n",
       "        vertical-align: top;\n",
       "    }\n",
       "\n",
       "    .dataframe thead th {\n",
       "        text-align: right;\n",
       "    }\n",
       "</style>\n",
       "<table border=\"1\" class=\"dataframe\">\n",
       "  <thead>\n",
       "    <tr style=\"text-align: right;\">\n",
       "      <th></th>\n",
       "      <th>carat</th>\n",
       "      <th>depth</th>\n",
       "      <th>table</th>\n",
       "      <th>x</th>\n",
       "      <th>z</th>\n",
       "      <th>price</th>\n",
       "    </tr>\n",
       "  </thead>\n",
       "  <tbody>\n",
       "    <tr>\n",
       "      <th>20061</th>\n",
       "      <td>0.31</td>\n",
       "      <td>63.0</td>\n",
       "      <td>57.0</td>\n",
       "      <td>4.28</td>\n",
       "      <td>2.71</td>\n",
       "      <td>625.0</td>\n",
       "    </tr>\n",
       "    <tr>\n",
       "      <th>30051</th>\n",
       "      <td>0.41</td>\n",
       "      <td>59.1</td>\n",
       "      <td>58.0</td>\n",
       "      <td>4.83</td>\n",
       "      <td>2.87</td>\n",
       "      <td>719.0</td>\n",
       "    </tr>\n",
       "    <tr>\n",
       "      <th>15257</th>\n",
       "      <td>1.01</td>\n",
       "      <td>62.7</td>\n",
       "      <td>60.0</td>\n",
       "      <td>6.27</td>\n",
       "      <td>3.95</td>\n",
       "      <td>6126.0</td>\n",
       "    </tr>\n",
       "    <tr>\n",
       "      <th>34649</th>\n",
       "      <td>0.31</td>\n",
       "      <td>62.0</td>\n",
       "      <td>55.0</td>\n",
       "      <td>4.37</td>\n",
       "      <td>2.70</td>\n",
       "      <td>872.0</td>\n",
       "    </tr>\n",
       "    <tr>\n",
       "      <th>34453</th>\n",
       "      <td>0.32</td>\n",
       "      <td>62.2</td>\n",
       "      <td>57.0</td>\n",
       "      <td>4.37</td>\n",
       "      <td>2.71</td>\n",
       "      <td>864.0</td>\n",
       "    </tr>\n",
       "  </tbody>\n",
       "</table>\n",
       "</div>"
      ],
      "text/plain": [
       "       carat  depth  table     x     z   price\n",
       "20061   0.31   63.0   57.0  4.28  2.71   625.0\n",
       "30051   0.41   59.1   58.0  4.83  2.87   719.0\n",
       "15257   1.01   62.7   60.0  6.27  3.95  6126.0\n",
       "34649   0.31   62.0   55.0  4.37  2.70   872.0\n",
       "34453   0.32   62.2   57.0  4.37  2.71   864.0"
      ]
     },
     "execution_count": 32,
     "metadata": {},
     "output_type": "execute_result"
    }
   ],
   "source": [
    "test = pd.concat([X_test,y_test], axis=1)\n",
    "test.head()"
   ]
  },
  {
   "cell_type": "code",
   "execution_count": 35,
   "id": "45398147",
   "metadata": {},
   "outputs": [
    {
     "data": {
      "text/html": [
       "<div>\n",
       "<style scoped>\n",
       "    .dataframe tbody tr th:only-of-type {\n",
       "        vertical-align: middle;\n",
       "    }\n",
       "\n",
       "    .dataframe tbody tr th {\n",
       "        vertical-align: top;\n",
       "    }\n",
       "\n",
       "    .dataframe thead th {\n",
       "        text-align: right;\n",
       "    }\n",
       "</style>\n",
       "<table border=\"1\" class=\"dataframe\">\n",
       "  <thead>\n",
       "    <tr style=\"text-align: right;\">\n",
       "      <th></th>\n",
       "      <th>carat</th>\n",
       "      <th>depth</th>\n",
       "      <th>table</th>\n",
       "      <th>x</th>\n",
       "      <th>z</th>\n",
       "      <th>price</th>\n",
       "      <th>Prediction</th>\n",
       "      <th>Error / Residual</th>\n",
       "    </tr>\n",
       "  </thead>\n",
       "  <tbody>\n",
       "    <tr>\n",
       "      <th>20061</th>\n",
       "      <td>0.31</td>\n",
       "      <td>63.0</td>\n",
       "      <td>57.0</td>\n",
       "      <td>4.28</td>\n",
       "      <td>2.71</td>\n",
       "      <td>625.0</td>\n",
       "      <td>373.88</td>\n",
       "      <td>251.12</td>\n",
       "    </tr>\n",
       "    <tr>\n",
       "      <th>30051</th>\n",
       "      <td>0.41</td>\n",
       "      <td>59.1</td>\n",
       "      <td>58.0</td>\n",
       "      <td>4.83</td>\n",
       "      <td>2.87</td>\n",
       "      <td>719.0</td>\n",
       "      <td>1375.28</td>\n",
       "      <td>-656.28</td>\n",
       "    </tr>\n",
       "    <tr>\n",
       "      <th>15257</th>\n",
       "      <td>1.01</td>\n",
       "      <td>62.7</td>\n",
       "      <td>60.0</td>\n",
       "      <td>6.27</td>\n",
       "      <td>3.95</td>\n",
       "      <td>6126.0</td>\n",
       "      <td>4899.85</td>\n",
       "      <td>1226.15</td>\n",
       "    </tr>\n",
       "    <tr>\n",
       "      <th>34649</th>\n",
       "      <td>0.31</td>\n",
       "      <td>62.0</td>\n",
       "      <td>55.0</td>\n",
       "      <td>4.37</td>\n",
       "      <td>2.70</td>\n",
       "      <td>872.0</td>\n",
       "      <td>629.59</td>\n",
       "      <td>242.41</td>\n",
       "    </tr>\n",
       "    <tr>\n",
       "      <th>34453</th>\n",
       "      <td>0.32</td>\n",
       "      <td>62.2</td>\n",
       "      <td>57.0</td>\n",
       "      <td>4.37</td>\n",
       "      <td>2.71</td>\n",
       "      <td>864.0</td>\n",
       "      <td>518.63</td>\n",
       "      <td>345.37</td>\n",
       "    </tr>\n",
       "  </tbody>\n",
       "</table>\n",
       "</div>"
      ],
      "text/plain": [
       "       carat  depth  table     x     z   price  Prediction  Error / Residual\n",
       "20061   0.31   63.0   57.0  4.28  2.71   625.0      373.88            251.12\n",
       "30051   0.41   59.1   58.0  4.83  2.87   719.0     1375.28           -656.28\n",
       "15257   1.01   62.7   60.0  6.27  3.95  6126.0     4899.85           1226.15\n",
       "34649   0.31   62.0   55.0  4.37  2.70   872.0      629.59            242.41\n",
       "34453   0.32   62.2   57.0  4.37  2.71   864.0      518.63            345.37"
      ]
     },
     "execution_count": 35,
     "metadata": {},
     "output_type": "execute_result"
    }
   ],
   "source": [
    "import numpy as np\n",
    "test['Prediction'] = np.round(Model3.predict(X_test),2)\n",
    "test['Error / Residual'] = np.round(test.price - test.Prediction,2)\n",
    "test.head()"
   ]
  },
  {
   "cell_type": "code",
   "execution_count": 37,
   "id": "e62eef0e",
   "metadata": {},
   "outputs": [
    {
     "name": "stdout",
     "output_type": "stream",
     "text": [
      "R-Squared score for model Performance on Train :  88.0\n"
     ]
    }
   ],
   "source": [
    "from sklearn.metrics import r2_score\n",
    "r2 = r2_score(train.price,train.fitted_value)\n",
    "print('R-Squared score for model Performance on Train : ', np.round(r2,2)*100)"
   ]
  },
  {
   "cell_type": "code",
   "execution_count": null,
   "id": "2c0e132c",
   "metadata": {},
   "outputs": [],
   "source": []
  }
 ],
 "metadata": {
  "kernelspec": {
   "display_name": "Python 3 (ipykernel)",
   "language": "python",
   "name": "python3"
  },
  "language_info": {
   "codemirror_mode": {
    "name": "ipython",
    "version": 3
   },
   "file_extension": ".py",
   "mimetype": "text/x-python",
   "name": "python",
   "nbconvert_exporter": "python",
   "pygments_lexer": "ipython3",
   "version": "3.9.12"
  }
 },
 "nbformat": 4,
 "nbformat_minor": 5
}
