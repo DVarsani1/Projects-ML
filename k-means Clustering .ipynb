{
 "cells": [
  {
   "cell_type": "markdown",
   "metadata": {
    "id": "7O_jtnk4KCov"
   },
   "source": [
    "### Step 1:\n",
    "Load the dataset"
   ]
  },
  {
   "cell_type": "code",
   "execution_count": 1,
   "metadata": {
    "id": "d1brN51xKCox"
   },
   "outputs": [],
   "source": [
    "import warnings\n",
    "warnings.filterwarnings(\"ignore\")\n",
    "import pandas as pd\n"
   ]
  },
  {
   "cell_type": "code",
   "execution_count": 4,
   "metadata": {
    "colab": {
     "base_uri": "https://localhost:8080/",
     "height": 106
    },
    "executionInfo": {
     "elapsed": 482,
     "status": "error",
     "timestamp": 1730706755044,
     "user": {
      "displayName": "Shirsat Saurabh Girish (PGDM 23-25)",
      "userId": "10365784960197800357"
     },
     "user_tz": -330
    },
    "id": "6POKFUfZKCoy",
    "outputId": "4e5ab9d3-22a2-4a6e-cd97-60fd79eaa4f6"
   },
   "outputs": [
    {
     "data": {
      "text/html": [
       "<div>\n",
       "<style scoped>\n",
       "    .dataframe tbody tr th:only-of-type {\n",
       "        vertical-align: middle;\n",
       "    }\n",
       "\n",
       "    .dataframe tbody tr th {\n",
       "        vertical-align: top;\n",
       "    }\n",
       "\n",
       "    .dataframe thead th {\n",
       "        text-align: right;\n",
       "    }\n",
       "</style>\n",
       "<table border=\"1\" class=\"dataframe\">\n",
       "  <thead>\n",
       "    <tr style=\"text-align: right;\">\n",
       "      <th></th>\n",
       "      <th>Age</th>\n",
       "      <th>Annual Income (k$)</th>\n",
       "      <th>Spending Score (1-100)</th>\n",
       "      <th>Savings Rate (%)</th>\n",
       "      <th>Debt to Income Ratio</th>\n",
       "      <th>Credit Score</th>\n",
       "      <th>Loan Count</th>\n",
       "    </tr>\n",
       "  </thead>\n",
       "  <tbody>\n",
       "    <tr>\n",
       "      <th>0</th>\n",
       "      <td>56</td>\n",
       "      <td>28</td>\n",
       "      <td>6</td>\n",
       "      <td>18.46</td>\n",
       "      <td>1.92</td>\n",
       "      <td>372</td>\n",
       "      <td>0</td>\n",
       "    </tr>\n",
       "    <tr>\n",
       "      <th>1</th>\n",
       "      <td>69</td>\n",
       "      <td>118</td>\n",
       "      <td>82</td>\n",
       "      <td>22.71</td>\n",
       "      <td>1.54</td>\n",
       "      <td>658</td>\n",
       "      <td>0</td>\n",
       "    </tr>\n",
       "    <tr>\n",
       "      <th>2</th>\n",
       "      <td>46</td>\n",
       "      <td>67</td>\n",
       "      <td>69</td>\n",
       "      <td>27.43</td>\n",
       "      <td>1.31</td>\n",
       "      <td>522</td>\n",
       "      <td>2</td>\n",
       "    </tr>\n",
       "    <tr>\n",
       "      <th>3</th>\n",
       "      <td>32</td>\n",
       "      <td>73</td>\n",
       "      <td>47</td>\n",
       "      <td>27.45</td>\n",
       "      <td>1.54</td>\n",
       "      <td>715</td>\n",
       "      <td>3</td>\n",
       "    </tr>\n",
       "    <tr>\n",
       "      <th>4</th>\n",
       "      <td>60</td>\n",
       "      <td>139</td>\n",
       "      <td>25</td>\n",
       "      <td>10.09</td>\n",
       "      <td>1.48</td>\n",
       "      <td>669</td>\n",
       "      <td>2</td>\n",
       "    </tr>\n",
       "    <tr>\n",
       "      <th>...</th>\n",
       "      <td>...</td>\n",
       "      <td>...</td>\n",
       "      <td>...</td>\n",
       "      <td>...</td>\n",
       "      <td>...</td>\n",
       "      <td>...</td>\n",
       "      <td>...</td>\n",
       "    </tr>\n",
       "    <tr>\n",
       "      <th>295</th>\n",
       "      <td>18</td>\n",
       "      <td>47</td>\n",
       "      <td>11</td>\n",
       "      <td>48.10</td>\n",
       "      <td>1.37</td>\n",
       "      <td>553</td>\n",
       "      <td>0</td>\n",
       "    </tr>\n",
       "    <tr>\n",
       "      <th>296</th>\n",
       "      <td>65</td>\n",
       "      <td>120</td>\n",
       "      <td>100</td>\n",
       "      <td>39.50</td>\n",
       "      <td>1.91</td>\n",
       "      <td>619</td>\n",
       "      <td>0</td>\n",
       "    </tr>\n",
       "    <tr>\n",
       "      <th>297</th>\n",
       "      <td>29</td>\n",
       "      <td>60</td>\n",
       "      <td>77</td>\n",
       "      <td>34.53</td>\n",
       "      <td>0.34</td>\n",
       "      <td>562</td>\n",
       "      <td>0</td>\n",
       "    </tr>\n",
       "    <tr>\n",
       "      <th>298</th>\n",
       "      <td>22</td>\n",
       "      <td>65</td>\n",
       "      <td>3</td>\n",
       "      <td>26.07</td>\n",
       "      <td>1.80</td>\n",
       "      <td>673</td>\n",
       "      <td>1</td>\n",
       "    </tr>\n",
       "    <tr>\n",
       "      <th>299</th>\n",
       "      <td>54</td>\n",
       "      <td>54</td>\n",
       "      <td>33</td>\n",
       "      <td>4.34</td>\n",
       "      <td>1.23</td>\n",
       "      <td>466</td>\n",
       "      <td>1</td>\n",
       "    </tr>\n",
       "  </tbody>\n",
       "</table>\n",
       "<p>300 rows × 7 columns</p>\n",
       "</div>"
      ],
      "text/plain": [
       "     Age  Annual Income (k$)  Spending Score (1-100)  Savings Rate (%)  \\\n",
       "0     56                  28                       6             18.46   \n",
       "1     69                 118                      82             22.71   \n",
       "2     46                  67                      69             27.43   \n",
       "3     32                  73                      47             27.45   \n",
       "4     60                 139                      25             10.09   \n",
       "..   ...                 ...                     ...               ...   \n",
       "295   18                  47                      11             48.10   \n",
       "296   65                 120                     100             39.50   \n",
       "297   29                  60                      77             34.53   \n",
       "298   22                  65                       3             26.07   \n",
       "299   54                  54                      33              4.34   \n",
       "\n",
       "     Debt to Income Ratio  Credit Score  Loan Count  \n",
       "0                    1.92           372           0  \n",
       "1                    1.54           658           0  \n",
       "2                    1.31           522           2  \n",
       "3                    1.54           715           3  \n",
       "4                    1.48           669           2  \n",
       "..                    ...           ...         ...  \n",
       "295                  1.37           553           0  \n",
       "296                  1.91           619           0  \n",
       "297                  0.34           562           0  \n",
       "298                  1.80           673           1  \n",
       "299                  1.23           466           1  \n",
       "\n",
       "[300 rows x 7 columns]"
      ]
     },
     "execution_count": 4,
     "metadata": {},
     "output_type": "execute_result"
    }
   ],
   "source": [
    "df = pd.read_csv(\"Customer_Clustering_Data.csv\")\n",
    "df"
   ]
  },
  {
   "cell_type": "code",
   "execution_count": 5,
   "metadata": {
    "id": "-2oTKPspKCoy",
    "scrolled": true
   },
   "outputs": [],
   "source": [
    "Final = df.copy()"
   ]
  },
  {
   "cell_type": "markdown",
   "metadata": {
    "id": "bYNz4DgZKCoz"
   },
   "source": [
    "####  Removing Unnecessary variable"
   ]
  },
  {
   "cell_type": "code",
   "execution_count": null,
   "metadata": {
    "id": "xquEHP3qKCoz"
   },
   "outputs": [],
   "source": [
    "del trip_advi_df['User_ID']"
   ]
  },
  {
   "cell_type": "code",
   "execution_count": 6,
   "metadata": {
    "id": "JYCkiKaYKCoz",
    "outputId": "9cc68a95-2b1e-4693-e2b4-25c0d316d679",
    "scrolled": true
   },
   "outputs": [
    {
     "name": "stdout",
     "output_type": "stream",
     "text": [
      "<class 'pandas.core.frame.DataFrame'>\n",
      "RangeIndex: 300 entries, 0 to 299\n",
      "Data columns (total 7 columns):\n",
      " #   Column                  Non-Null Count  Dtype  \n",
      "---  ------                  --------------  -----  \n",
      " 0   Age                     300 non-null    int64  \n",
      " 1   Annual Income (k$)      300 non-null    int64  \n",
      " 2   Spending Score (1-100)  300 non-null    int64  \n",
      " 3   Savings Rate (%)        300 non-null    float64\n",
      " 4   Debt to Income Ratio    300 non-null    float64\n",
      " 5   Credit Score            300 non-null    int64  \n",
      " 6   Loan Count              300 non-null    int64  \n",
      "dtypes: float64(2), int64(5)\n",
      "memory usage: 16.5 KB\n"
     ]
    }
   ],
   "source": [
    "df.info()"
   ]
  },
  {
   "cell_type": "code",
   "execution_count": 7,
   "metadata": {
    "id": "c45xO64lKCo0",
    "outputId": "7ecd33cb-c0e6-432a-af1b-f7ffd66965ee"
   },
   "outputs": [
    {
     "data": {
      "text/html": [
       "<div>\n",
       "<style scoped>\n",
       "    .dataframe tbody tr th:only-of-type {\n",
       "        vertical-align: middle;\n",
       "    }\n",
       "\n",
       "    .dataframe tbody tr th {\n",
       "        vertical-align: top;\n",
       "    }\n",
       "\n",
       "    .dataframe thead th {\n",
       "        text-align: right;\n",
       "    }\n",
       "</style>\n",
       "<table border=\"1\" class=\"dataframe\">\n",
       "  <thead>\n",
       "    <tr style=\"text-align: right;\">\n",
       "      <th></th>\n",
       "      <th>Age</th>\n",
       "      <th>Annual Income (k$)</th>\n",
       "      <th>Spending Score (1-100)</th>\n",
       "      <th>Savings Rate (%)</th>\n",
       "      <th>Debt to Income Ratio</th>\n",
       "      <th>Credit Score</th>\n",
       "      <th>Loan Count</th>\n",
       "    </tr>\n",
       "  </thead>\n",
       "  <tbody>\n",
       "    <tr>\n",
       "      <th>0</th>\n",
       "      <td>56</td>\n",
       "      <td>28</td>\n",
       "      <td>6</td>\n",
       "      <td>18.46</td>\n",
       "      <td>1.92</td>\n",
       "      <td>372</td>\n",
       "      <td>0</td>\n",
       "    </tr>\n",
       "    <tr>\n",
       "      <th>1</th>\n",
       "      <td>69</td>\n",
       "      <td>118</td>\n",
       "      <td>82</td>\n",
       "      <td>22.71</td>\n",
       "      <td>1.54</td>\n",
       "      <td>658</td>\n",
       "      <td>0</td>\n",
       "    </tr>\n",
       "    <tr>\n",
       "      <th>2</th>\n",
       "      <td>46</td>\n",
       "      <td>67</td>\n",
       "      <td>69</td>\n",
       "      <td>27.43</td>\n",
       "      <td>1.31</td>\n",
       "      <td>522</td>\n",
       "      <td>2</td>\n",
       "    </tr>\n",
       "    <tr>\n",
       "      <th>3</th>\n",
       "      <td>32</td>\n",
       "      <td>73</td>\n",
       "      <td>47</td>\n",
       "      <td>27.45</td>\n",
       "      <td>1.54</td>\n",
       "      <td>715</td>\n",
       "      <td>3</td>\n",
       "    </tr>\n",
       "    <tr>\n",
       "      <th>4</th>\n",
       "      <td>60</td>\n",
       "      <td>139</td>\n",
       "      <td>25</td>\n",
       "      <td>10.09</td>\n",
       "      <td>1.48</td>\n",
       "      <td>669</td>\n",
       "      <td>2</td>\n",
       "    </tr>\n",
       "  </tbody>\n",
       "</table>\n",
       "</div>"
      ],
      "text/plain": [
       "   Age  Annual Income (k$)  Spending Score (1-100)  Savings Rate (%)  \\\n",
       "0   56                  28                       6             18.46   \n",
       "1   69                 118                      82             22.71   \n",
       "2   46                  67                      69             27.43   \n",
       "3   32                  73                      47             27.45   \n",
       "4   60                 139                      25             10.09   \n",
       "\n",
       "   Debt to Income Ratio  Credit Score  Loan Count  \n",
       "0                  1.92           372           0  \n",
       "1                  1.54           658           0  \n",
       "2                  1.31           522           2  \n",
       "3                  1.54           715           3  \n",
       "4                  1.48           669           2  "
      ]
     },
     "execution_count": 7,
     "metadata": {},
     "output_type": "execute_result"
    }
   ],
   "source": [
    "df.head()"
   ]
  },
  {
   "cell_type": "markdown",
   "metadata": {
    "id": "tC9ekvYiKCo0"
   },
   "source": [
    "### Step 2:\n",
    "Extract the measurements from the DataFrame using its .values attribute:"
   ]
  },
  {
   "cell_type": "code",
   "execution_count": 8,
   "metadata": {
    "id": "EBfZrr2eKCo0",
    "outputId": "54b2a057-fbd7-495d-9584-dab7a05511b3"
   },
   "outputs": [
    {
     "data": {
      "text/plain": [
       "array([[5.60e+01, 2.80e+01, 6.00e+00, ..., 1.92e+00, 3.72e+02, 0.00e+00],\n",
       "       [6.90e+01, 1.18e+02, 8.20e+01, ..., 1.54e+00, 6.58e+02, 0.00e+00],\n",
       "       [4.60e+01, 6.70e+01, 6.90e+01, ..., 1.31e+00, 5.22e+02, 2.00e+00],\n",
       "       ...,\n",
       "       [2.90e+01, 6.00e+01, 7.70e+01, ..., 3.40e-01, 5.62e+02, 0.00e+00],\n",
       "       [2.20e+01, 6.50e+01, 3.00e+00, ..., 1.80e+00, 6.73e+02, 1.00e+00],\n",
       "       [5.40e+01, 5.40e+01, 3.30e+01, ..., 1.23e+00, 4.66e+02, 1.00e+00]])"
      ]
     },
     "execution_count": 8,
     "metadata": {},
     "output_type": "execute_result"
    }
   ],
   "source": [
    "samples = df.values # get all row and columne with header\n",
    "samples"
   ]
  },
  {
   "cell_type": "markdown",
   "metadata": {
    "id": "cCL5w4cRKCo1"
   },
   "source": [
    "### Step 3: Elbow Method\n",
    "1. Measure the quality of clusterings with different numbers of clusters using the inertia.\n",
    "\n",
    "2. For each of the given values of k, perform the following steps:\n",
    "3. Create a KMeans instance called model with k clusters.\n",
    "4. Fit the model to the grain data samples.\n",
    "5. Append the value of the inertia_ attribute of model to the list inertias."
   ]
  },
  {
   "cell_type": "code",
   "execution_count": 15,
   "metadata": {
    "colab": {
     "base_uri": "https://localhost:8080/"
    },
    "executionInfo": {
     "elapsed": 3836,
     "status": "ok",
     "timestamp": 1730706895958,
     "user": {
      "displayName": "Shirsat Saurabh Girish (PGDM 23-25)",
      "userId": "10365784960197800357"
     },
     "user_tz": -330
    },
    "id": "kNKhPfjGKpgk",
    "outputId": "f087e064-335d-4b3c-f416-bd078f534baf"
   },
   "outputs": [
    {
     "name": "stdout",
     "output_type": "stream",
     "text": [
      "Requirement already satisfied: yellowbrick in /Library/Frameworks/Python.framework/Versions/3.10/lib/python3.10/site-packages (1.5)\n",
      "Requirement already satisfied: matplotlib!=3.0.0,>=2.0.2 in /Library/Frameworks/Python.framework/Versions/3.10/lib/python3.10/site-packages (from yellowbrick) (3.9.2)\n",
      "Requirement already satisfied: scipy>=1.0.0 in /Library/Frameworks/Python.framework/Versions/3.10/lib/python3.10/site-packages (from yellowbrick) (1.14.1)\n",
      "Requirement already satisfied: scikit-learn>=1.0.0 in /Library/Frameworks/Python.framework/Versions/3.10/lib/python3.10/site-packages (from yellowbrick) (1.5.2)\n",
      "Requirement already satisfied: numpy>=1.16.0 in /Library/Frameworks/Python.framework/Versions/3.10/lib/python3.10/site-packages (from yellowbrick) (1.26.4)\n",
      "Requirement already satisfied: cycler>=0.10.0 in /Library/Frameworks/Python.framework/Versions/3.10/lib/python3.10/site-packages (from yellowbrick) (0.12.1)\n",
      "Requirement already satisfied: contourpy>=1.0.1 in /Library/Frameworks/Python.framework/Versions/3.10/lib/python3.10/site-packages (from matplotlib!=3.0.0,>=2.0.2->yellowbrick) (1.3.0)\n",
      "Requirement already satisfied: fonttools>=4.22.0 in /Library/Frameworks/Python.framework/Versions/3.10/lib/python3.10/site-packages (from matplotlib!=3.0.0,>=2.0.2->yellowbrick) (4.54.1)\n",
      "Requirement already satisfied: kiwisolver>=1.3.1 in /Library/Frameworks/Python.framework/Versions/3.10/lib/python3.10/site-packages (from matplotlib!=3.0.0,>=2.0.2->yellowbrick) (1.4.7)\n",
      "Requirement already satisfied: packaging>=20.0 in /Users/dhruvvarsani/Library/Python/3.10/lib/python/site-packages (from matplotlib!=3.0.0,>=2.0.2->yellowbrick) (24.1)\n",
      "Requirement already satisfied: pillow>=8 in /Library/Frameworks/Python.framework/Versions/3.10/lib/python3.10/site-packages (from matplotlib!=3.0.0,>=2.0.2->yellowbrick) (10.4.0)\n",
      "Requirement already satisfied: pyparsing>=2.3.1 in /Library/Frameworks/Python.framework/Versions/3.10/lib/python3.10/site-packages (from matplotlib!=3.0.0,>=2.0.2->yellowbrick) (3.1.4)\n",
      "Requirement already satisfied: python-dateutil>=2.7 in /Users/dhruvvarsani/Library/Python/3.10/lib/python/site-packages (from matplotlib!=3.0.0,>=2.0.2->yellowbrick) (2.9.0.post0)\n",
      "Requirement already satisfied: joblib>=1.2.0 in /Library/Frameworks/Python.framework/Versions/3.10/lib/python3.10/site-packages (from scikit-learn>=1.0.0->yellowbrick) (1.4.2)\n",
      "Requirement already satisfied: threadpoolctl>=3.1.0 in /Library/Frameworks/Python.framework/Versions/3.10/lib/python3.10/site-packages (from scikit-learn>=1.0.0->yellowbrick) (3.5.0)\n",
      "Requirement already satisfied: six>=1.5 in /Users/dhruvvarsani/Library/Python/3.10/lib/python/site-packages (from python-dateutil>=2.7->matplotlib!=3.0.0,>=2.0.2->yellowbrick) (1.16.0)\n",
      "Note: you may need to restart the kernel to use updated packages.\n"
     ]
    }
   ],
   "source": [
    "pip install yellowbrick"
   ]
  },
  {
   "cell_type": "code",
   "execution_count": 16,
   "metadata": {
    "id": "YhXHKCnyKCo1",
    "outputId": "aa78d906-1d54-44b3-e3ea-c96d3b0a2a01"
   },
   "outputs": [
    {
     "data": {
      "image/png": "[encoded data removed]",
      "text/plain": [
       "<Figure size 800x550 with 1 Axes>"
      ]
     },
     "metadata": {},
     "output_type": "display_data"
    },
    {
     "data": {
      "text/plain": [
       "<Axes: title={'center': 'Distortion Score Elbow for KMeans Clustering'}, xlabel='k', ylabel='distortion score'>"
      ]
     },
     "execution_count": 16,
     "metadata": {},
     "output_type": "execute_result"
    }
   ],
   "source": [
    "from sklearn.cluster import KMeans\n",
    "from yellowbrick.cluster import KElbowVisualizer\n",
    "km = KMeans(random_state=42)\n",
    "visualizer = KElbowVisualizer(km, k=(1,10),timings=False)\n",
    "visualizer.fit(samples)        # Fit the data to the visualizer\n",
    "visualizer.show()"
   ]
  },
  {
   "cell_type": "markdown",
   "metadata": {
    "id": "9ghHXrZRKCo1"
   },
   "source": [
    "# Model or Algorithm"
   ]
  },
  {
   "cell_type": "code",
   "execution_count": 17,
   "metadata": {
    "id": "3JUTMvcfKCo1"
   },
   "outputs": [],
   "source": [
    "model2 = KMeans(n_clusters=3,max_iter=100,random_state=42)"
   ]
  },
  {
   "cell_type": "code",
   "execution_count": 19,
   "metadata": {
    "id": "8J4QMVXfKCo2",
    "outputId": "41c03f12-0892-4e30-db20-a7276c58a016"
   },
   "outputs": [
    {
     "data": {
      "text/html": [
       "<div>\n",
       "<style scoped>\n",
       "    .dataframe tbody tr th:only-of-type {\n",
       "        vertical-align: middle;\n",
       "    }\n",
       "\n",
       "    .dataframe tbody tr th {\n",
       "        vertical-align: top;\n",
       "    }\n",
       "\n",
       "    .dataframe thead th {\n",
       "        text-align: right;\n",
       "    }\n",
       "</style>\n",
       "<table border=\"1\" class=\"dataframe\">\n",
       "  <thead>\n",
       "    <tr style=\"text-align: right;\">\n",
       "      <th></th>\n",
       "      <th>Age</th>\n",
       "      <th>Annual Income (k$)</th>\n",
       "      <th>Spending Score (1-100)</th>\n",
       "      <th>Savings Rate (%)</th>\n",
       "      <th>Debt to Income Ratio</th>\n",
       "      <th>Credit Score</th>\n",
       "      <th>Loan Count</th>\n",
       "      <th>Cluster_Made</th>\n",
       "    </tr>\n",
       "  </thead>\n",
       "  <tbody>\n",
       "    <tr>\n",
       "      <th>0</th>\n",
       "      <td>56</td>\n",
       "      <td>28</td>\n",
       "      <td>6</td>\n",
       "      <td>18.46</td>\n",
       "      <td>1.92</td>\n",
       "      <td>372</td>\n",
       "      <td>0</td>\n",
       "      <td>2</td>\n",
       "    </tr>\n",
       "    <tr>\n",
       "      <th>1</th>\n",
       "      <td>69</td>\n",
       "      <td>118</td>\n",
       "      <td>82</td>\n",
       "      <td>22.71</td>\n",
       "      <td>1.54</td>\n",
       "      <td>658</td>\n",
       "      <td>0</td>\n",
       "      <td>0</td>\n",
       "    </tr>\n",
       "    <tr>\n",
       "      <th>2</th>\n",
       "      <td>46</td>\n",
       "      <td>67</td>\n",
       "      <td>69</td>\n",
       "      <td>27.43</td>\n",
       "      <td>1.31</td>\n",
       "      <td>522</td>\n",
       "      <td>2</td>\n",
       "      <td>0</td>\n",
       "    </tr>\n",
       "    <tr>\n",
       "      <th>3</th>\n",
       "      <td>32</td>\n",
       "      <td>73</td>\n",
       "      <td>47</td>\n",
       "      <td>27.45</td>\n",
       "      <td>1.54</td>\n",
       "      <td>715</td>\n",
       "      <td>3</td>\n",
       "      <td>1</td>\n",
       "    </tr>\n",
       "    <tr>\n",
       "      <th>4</th>\n",
       "      <td>60</td>\n",
       "      <td>139</td>\n",
       "      <td>25</td>\n",
       "      <td>10.09</td>\n",
       "      <td>1.48</td>\n",
       "      <td>669</td>\n",
       "      <td>2</td>\n",
       "      <td>0</td>\n",
       "    </tr>\n",
       "  </tbody>\n",
       "</table>\n",
       "</div>"
      ],
      "text/plain": [
       "   Age  Annual Income (k$)  Spending Score (1-100)  Savings Rate (%)  \\\n",
       "0   56                  28                       6             18.46   \n",
       "1   69                 118                      82             22.71   \n",
       "2   46                  67                      69             27.43   \n",
       "3   32                  73                      47             27.45   \n",
       "4   60                 139                      25             10.09   \n",
       "\n",
       "   Debt to Income Ratio  Credit Score  Loan Count  Cluster_Made  \n",
       "0                  1.92           372           0             2  \n",
       "1                  1.54           658           0             0  \n",
       "2                  1.31           522           2             0  \n",
       "3                  1.54           715           3             1  \n",
       "4                  1.48           669           2             0  "
      ]
     },
     "execution_count": 19,
     "metadata": {},
     "output_type": "execute_result"
    }
   ],
   "source": [
    "Final['Cluster_Made'] = model2.fit_predict(samples)\n",
    "Final.head()"
   ]
  },
  {
   "cell_type": "code",
   "execution_count": 20,
   "metadata": {
    "id": "ekaG4kP2KCo2",
    "outputId": "c4de29fc-b009-489f-be1a-2a0a8861ac6e"
   },
   "outputs": [
    {
     "data": {
      "text/html": [
       "<div>\n",
       "<style scoped>\n",
       "    .dataframe tbody tr th:only-of-type {\n",
       "        vertical-align: middle;\n",
       "    }\n",
       "\n",
       "    .dataframe tbody tr th {\n",
       "        vertical-align: top;\n",
       "    }\n",
       "\n",
       "    .dataframe thead th {\n",
       "        text-align: right;\n",
       "    }\n",
       "</style>\n",
       "<table border=\"1\" class=\"dataframe\">\n",
       "  <thead>\n",
       "    <tr style=\"text-align: right;\">\n",
       "      <th></th>\n",
       "      <th>Age</th>\n",
       "      <th>Annual Income (k$)</th>\n",
       "      <th>Spending Score (1-100)</th>\n",
       "      <th>Savings Rate (%)</th>\n",
       "      <th>Debt to Income Ratio</th>\n",
       "      <th>Credit Score</th>\n",
       "      <th>Loan Count</th>\n",
       "      <th>Cluster_Made</th>\n",
       "    </tr>\n",
       "  </thead>\n",
       "  <tbody>\n",
       "    <tr>\n",
       "      <th>0</th>\n",
       "      <td>56</td>\n",
       "      <td>28</td>\n",
       "      <td>6</td>\n",
       "      <td>18.46</td>\n",
       "      <td>1.92</td>\n",
       "      <td>372</td>\n",
       "      <td>0</td>\n",
       "      <td>Third Group</td>\n",
       "    </tr>\n",
       "    <tr>\n",
       "      <th>1</th>\n",
       "      <td>69</td>\n",
       "      <td>118</td>\n",
       "      <td>82</td>\n",
       "      <td>22.71</td>\n",
       "      <td>1.54</td>\n",
       "      <td>658</td>\n",
       "      <td>0</td>\n",
       "      <td>First Group</td>\n",
       "    </tr>\n",
       "    <tr>\n",
       "      <th>2</th>\n",
       "      <td>46</td>\n",
       "      <td>67</td>\n",
       "      <td>69</td>\n",
       "      <td>27.43</td>\n",
       "      <td>1.31</td>\n",
       "      <td>522</td>\n",
       "      <td>2</td>\n",
       "      <td>First Group</td>\n",
       "    </tr>\n",
       "    <tr>\n",
       "      <th>3</th>\n",
       "      <td>32</td>\n",
       "      <td>73</td>\n",
       "      <td>47</td>\n",
       "      <td>27.45</td>\n",
       "      <td>1.54</td>\n",
       "      <td>715</td>\n",
       "      <td>3</td>\n",
       "      <td>Second Group</td>\n",
       "    </tr>\n",
       "    <tr>\n",
       "      <th>4</th>\n",
       "      <td>60</td>\n",
       "      <td>139</td>\n",
       "      <td>25</td>\n",
       "      <td>10.09</td>\n",
       "      <td>1.48</td>\n",
       "      <td>669</td>\n",
       "      <td>2</td>\n",
       "      <td>First Group</td>\n",
       "    </tr>\n",
       "  </tbody>\n",
       "</table>\n",
       "</div>"
      ],
      "text/plain": [
       "   Age  Annual Income (k$)  Spending Score (1-100)  Savings Rate (%)  \\\n",
       "0   56                  28                       6             18.46   \n",
       "1   69                 118                      82             22.71   \n",
       "2   46                  67                      69             27.43   \n",
       "3   32                  73                      47             27.45   \n",
       "4   60                 139                      25             10.09   \n",
       "\n",
       "   Debt to Income Ratio  Credit Score  Loan Count  Cluster_Made  \n",
       "0                  1.92           372           0   Third Group  \n",
       "1                  1.54           658           0   First Group  \n",
       "2                  1.31           522           2   First Group  \n",
       "3                  1.54           715           3  Second Group  \n",
       "4                  1.48           669           2   First Group  "
      ]
     },
     "execution_count": 20,
     "metadata": {},
     "output_type": "execute_result"
    }
   ],
   "source": [
    "Final.Cluster_Made = Final.Cluster_Made.replace([0,1,2],['First Group','Second Group','Third Group'])\n",
    "Final.head()"
   ]
  },
  {
   "cell_type": "markdown",
   "metadata": {
    "id": "-bAfk3CpKCo2"
   },
   "source": [
    "### Final Cluster Centorids"
   ]
  },
  {
   "cell_type": "code",
   "execution_count": 21,
   "metadata": {
    "id": "SkchBtBLKCo2",
    "outputId": "db1f0daf-f361-477c-d259-70559fa76f1d"
   },
   "outputs": [
    {
     "data": {
      "text/plain": [
       "array([[ 43.14529915,  88.11111111,  49.38461538,  26.99042735,\n",
       "          1.00923077, 596.57264957,   2.        ],\n",
       "       [ 42.43421053,  90.82894737,  53.69736842,  26.00065789,\n",
       "          1.08578947, 762.06578947,   2.22368421],\n",
       "       [ 44.14018692,  81.8317757 ,  48.77570093,  24.37448598,\n",
       "          1.12439252, 393.85981308,   2.07476636]])"
      ]
     },
     "execution_count": 21,
     "metadata": {},
     "output_type": "execute_result"
    }
   ],
   "source": [
    "model2.cluster_centers_"
   ]
  },
  {
   "cell_type": "code",
   "execution_count": 22,
   "metadata": {
    "id": "MpXOdHLVKCo2",
    "outputId": "66942690-830f-4bb3-c4e3-b699dc375556"
   },
   "outputs": [
    {
     "data": {
      "text/plain": [
       "Cluster_Made\n",
       "First Group     117\n",
       "Third Group     107\n",
       "Second Group     76\n",
       "Name: count, dtype: int64"
      ]
     },
     "execution_count": 22,
     "metadata": {},
     "output_type": "execute_result"
    }
   ],
   "source": [
    "Final.Cluster_Made.value_counts(ascending=False)"
   ]
  },
  {
   "cell_type": "markdown",
   "metadata": {
    "id": "ZhxBr8lqKCo3"
   },
   "source": [
    "# Finished"
   ]
  }
 ],
 "metadata": {
  "colab": {
   "provenance": []
  },
  "kernelspec": {
   "display_name": "Python 3",
   "language": "python",
   "name": "python3"
  },
  "language_info": {
   "codemirror_mode": {
    "name": "ipython",
    "version": 3
   },
   "file_extension": ".py",
   "mimetype": "text/x-python",
   "name": "python",
   "nbconvert_exporter": "python",
   "pygments_lexer": "ipython3",
   "version": "3.10.0"
  }
 },
 "nbformat": 4,
 "nbformat_minor": 0
}
